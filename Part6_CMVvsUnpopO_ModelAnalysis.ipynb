{
 "cells": [
  {
   "cell_type": "code",
   "execution_count": 1,
   "id": "732619c8",
   "metadata": {},
   "outputs": [],
   "source": [
    "import pandas as pd\n",
    "import numpy as np\n",
    "import pickle\n",
    "import matplotlib.pyplot as plt\n",
    "import math\n",
    "\n",
    "from sklearn.model_selection import train_test_split\n",
    "from sklearn.metrics import confusion_matrix, plot_confusion_matrix\n",
    "\n",
    "from sklearn.metrics import accuracy_score, roc_auc_score, f1_score\n",
    "\n",
    "from sklearn.ensemble import RandomForestClassifier, ExtraTreesClassifier, BaggingClassifier\n",
    "from sklearn.tree import DecisionTreeClassifier\n",
    "from sklearn.linear_model import LogisticRegression\n",
    "from xgboost import XGBClassifier"
   ]
  },
  {
   "cell_type": "markdown",
   "id": "49f91f5c",
   "metadata": {},
   "source": [
    "- Import data."
   ]
  },
  {
   "cell_type": "code",
   "execution_count": 43,
   "id": "adf55ad3",
   "metadata": {},
   "outputs": [],
   "source": [
    "df = pd.read_csv('data/explored_cmv&unpop_data')"
   ]
  },
  {
   "cell_type": "code",
   "execution_count": 44,
   "id": "2172b73f",
   "metadata": {},
   "outputs": [],
   "source": [
    "df.drop(columns = 'Unnamed: 0', inplace = True)"
   ]
  },
  {
   "cell_type": "markdown",
   "id": "07aeeab7",
   "metadata": {},
   "source": [
    "- Load models."
   ]
  },
  {
   "cell_type": "code",
   "execution_count": 45,
   "id": "3b658d30",
   "metadata": {},
   "outputs": [],
   "source": [
    "rf_f1 = pickle.load(open('models/RandomForest.sav', 'rb'))"
   ]
  },
  {
   "cell_type": "code",
   "execution_count": 46,
   "id": "46495897",
   "metadata": {},
   "outputs": [],
   "source": [
    "rf_rocauc = pickle.load(open('models/RandomForest_rocauc.sav', 'rb'))"
   ]
  },
  {
   "cell_type": "code",
   "execution_count": 47,
   "id": "9b0735b9",
   "metadata": {},
   "outputs": [],
   "source": [
    "dtree_f1 = pickle.load(open('models/DecisionTree.sav', 'rb'))"
   ]
  },
  {
   "cell_type": "code",
   "execution_count": 48,
   "id": "e8e1aa8a",
   "metadata": {},
   "outputs": [],
   "source": [
    "dtree_rocauc = pickle.load(open('models/DecisionTree_rocauc.sav', 'rb'))"
   ]
  },
  {
   "cell_type": "code",
   "execution_count": 49,
   "id": "65bd9c03",
   "metadata": {},
   "outputs": [],
   "source": [
    "et_f1 = pickle.load(open('models/ExtraTrees.sav', 'rb'))"
   ]
  },
  {
   "cell_type": "code",
   "execution_count": 50,
   "id": "239f1a77",
   "metadata": {},
   "outputs": [],
   "source": [
    "et_rocauc = pickle.load(open('models/ExtraTrees_rocauc.sav', 'rb'))"
   ]
  },
  {
   "cell_type": "code",
   "execution_count": 51,
   "id": "85b48737",
   "metadata": {},
   "outputs": [],
   "source": [
    "xgb_f1 = pickle.load(open('models/XGBoost.sav', 'rb'))"
   ]
  },
  {
   "cell_type": "code",
   "execution_count": 52,
   "id": "40185e35",
   "metadata": {},
   "outputs": [],
   "source": [
    "xgb_rocauc = pickle.load(open('models/XGBoost_rocauc.sav', 'rb'))"
   ]
  },
  {
   "cell_type": "code",
   "execution_count": 53,
   "id": "2c38b3dc",
   "metadata": {},
   "outputs": [],
   "source": [
    "logreg_f1 = pickle.load(open('models/LogisticRegression.sav', 'rb'))"
   ]
  },
  {
   "cell_type": "code",
   "execution_count": 54,
   "id": "978f3dbe",
   "metadata": {},
   "outputs": [],
   "source": [
    "logreg_rocauc = pickle.load(open('models/LogisticRegression_rocauc.sav', 'rb'))"
   ]
  },
  {
   "cell_type": "code",
   "execution_count": 55,
   "id": "53b2d3f7",
   "metadata": {},
   "outputs": [],
   "source": [
    "models = {'dtree_f1': dtree_f1, 'dtree_rocauc': dtree_rocauc, 'rf_f1': rf_f1, 'rf_rocauc': rf_rocauc, \n",
    "         'et_f1': et_f1, 'et_rocauc': et_rocauc, 'xgb_f1': xgb_f1, 'xgb_rocauc': xgb_rocauc, \n",
    "         'logreg_f1': logreg_f1, 'logreg_rocauc': logreg_rocauc}"
   ]
  },
  {
   "cell_type": "markdown",
   "id": "7dfee21f",
   "metadata": {},
   "source": [
    "- Recreate train/test split."
   ]
  },
  {
   "cell_type": "code",
   "execution_count": 56,
   "id": "d7cc1809",
   "metadata": {},
   "outputs": [],
   "source": [
    "x_list = df.select_dtypes(exclude = np.dtype('O')).columns.tolist()\n",
    "x_list.remove('post_subreddit')\n",
    "X = df[x_list]\n",
    "y = df['post_subreddit']\n",
    "\n",
    "X = X.astype(np.dtype('float64'))\n",
    "\n",
    "X_train, X_test, y_train, y_test = train_test_split(X, y, random_state = 42, stratify = y)"
   ]
  },
  {
   "cell_type": "markdown",
   "id": "f56784c5",
   "metadata": {},
   "source": [
    "- Score models."
   ]
  },
  {
   "cell_type": "code",
   "execution_count": 60,
   "id": "4de1fd48",
   "metadata": {},
   "outputs": [
    {
     "name": "stderr",
     "output_type": "stream",
     "text": [
      "C:\\Users\\Avanyali\\anaconda3\\lib\\site-packages\\xgboost\\data.py:114: UserWarning: Use subset (sliced data) of np.ndarray is not recommended because it will generate extra copies and increase memory consumption\n",
      "  \"because it will generate extra copies and increase \" +\n",
      "C:\\Users\\Avanyali\\anaconda3\\lib\\site-packages\\xgboost\\data.py:114: UserWarning: Use subset (sliced data) of np.ndarray is not recommended because it will generate extra copies and increase memory consumption\n",
      "  \"because it will generate extra copies and increase \" +\n",
      "C:\\Users\\Avanyali\\anaconda3\\lib\\site-packages\\xgboost\\data.py:114: UserWarning: Use subset (sliced data) of np.ndarray is not recommended because it will generate extra copies and increase memory consumption\n",
      "  \"because it will generate extra copies and increase \" +\n",
      "C:\\Users\\Avanyali\\anaconda3\\lib\\site-packages\\xgboost\\data.py:114: UserWarning: Use subset (sliced data) of np.ndarray is not recommended because it will generate extra copies and increase memory consumption\n",
      "  \"because it will generate extra copies and increase \" +\n"
     ]
    }
   ],
   "source": [
    "model_scores = {}\n",
    "\n",
    "for name, model in models.items():\n",
    "    preds = model.predict(X_test)\n",
    "    model_scores[name] = {}\n",
    "    \n",
    "    model_scores[name]['test_f1'] = f1_score(y_test, preds)\n",
    "    model_scores[name]['test_accuracy'] = accuracy_score(y_test, preds)\n",
    "    model_scores[name]['test_roc_auc'] = roc_auc_score(y_test, preds)\n",
    "    \n",
    "    preds = model.predict(X_train)\n",
    "    \n",
    "    model_scores[name]['train_f1'] = f1_score(y_train, preds)\n",
    "    model_scores[name]['train_accuracy'] = accuracy_score(y_train, preds)\n",
    "    model_scores[name]['train_roc_auc'] = roc_auc_score(y_train, preds)"
   ]
  },
  {
   "cell_type": "code",
   "execution_count": 61,
   "id": "7cad6da2",
   "metadata": {},
   "outputs": [],
   "source": [
    "model_frame = pd.DataFrame(model_scores)"
   ]
  },
  {
   "cell_type": "code",
   "execution_count": 62,
   "id": "61fb27a6",
   "metadata": {},
   "outputs": [
    {
     "data": {
      "text/html": [
       "<div>\n",
       "<style scoped>\n",
       "    .dataframe tbody tr th:only-of-type {\n",
       "        vertical-align: middle;\n",
       "    }\n",
       "\n",
       "    .dataframe tbody tr th {\n",
       "        vertical-align: top;\n",
       "    }\n",
       "\n",
       "    .dataframe thead th {\n",
       "        text-align: right;\n",
       "    }\n",
       "</style>\n",
       "<table border=\"1\" class=\"dataframe\">\n",
       "  <thead>\n",
       "    <tr style=\"text-align: right;\">\n",
       "      <th></th>\n",
       "      <th>dtree_f1</th>\n",
       "      <th>dtree_rocauc</th>\n",
       "      <th>rf_f1</th>\n",
       "      <th>rf_rocauc</th>\n",
       "      <th>et_f1</th>\n",
       "      <th>et_rocauc</th>\n",
       "      <th>xgb_f1</th>\n",
       "      <th>xgb_rocauc</th>\n",
       "      <th>logreg_f1</th>\n",
       "      <th>logreg_rocauc</th>\n",
       "    </tr>\n",
       "  </thead>\n",
       "  <tbody>\n",
       "    <tr>\n",
       "      <th>test_f1</th>\n",
       "      <td>0.000000</td>\n",
       "      <td>0.000000</td>\n",
       "      <td>0.779079</td>\n",
       "      <td>0.000000</td>\n",
       "      <td>0.000000</td>\n",
       "      <td>0.704639</td>\n",
       "      <td>0.824791</td>\n",
       "      <td>0.826855</td>\n",
       "      <td>0.792529</td>\n",
       "      <td>0.791514</td>\n",
       "    </tr>\n",
       "    <tr>\n",
       "      <th>test_accuracy</th>\n",
       "      <td>0.563230</td>\n",
       "      <td>0.563230</td>\n",
       "      <td>0.818557</td>\n",
       "      <td>0.563230</td>\n",
       "      <td>0.563230</td>\n",
       "      <td>0.779038</td>\n",
       "      <td>0.848454</td>\n",
       "      <td>0.848454</td>\n",
       "      <td>0.824399</td>\n",
       "      <td>0.824399</td>\n",
       "    </tr>\n",
       "    <tr>\n",
       "      <th>test_roc_auc</th>\n",
       "      <td>0.500000</td>\n",
       "      <td>0.500000</td>\n",
       "      <td>0.808895</td>\n",
       "      <td>0.500000</td>\n",
       "      <td>0.500000</td>\n",
       "      <td>0.759327</td>\n",
       "      <td>0.844887</td>\n",
       "      <td>0.846211</td>\n",
       "      <td>0.818056</td>\n",
       "      <td>0.817526</td>\n",
       "    </tr>\n",
       "    <tr>\n",
       "      <th>train_f1</th>\n",
       "      <td>0.000000</td>\n",
       "      <td>0.000000</td>\n",
       "      <td>0.776811</td>\n",
       "      <td>0.000000</td>\n",
       "      <td>0.000000</td>\n",
       "      <td>0.699954</td>\n",
       "      <td>0.994599</td>\n",
       "      <td>0.994992</td>\n",
       "      <td>0.816271</td>\n",
       "      <td>0.804727</td>\n",
       "    </tr>\n",
       "    <tr>\n",
       "      <th>train_accuracy</th>\n",
       "      <td>0.563345</td>\n",
       "      <td>0.563345</td>\n",
       "      <td>0.817869</td>\n",
       "      <td>0.563345</td>\n",
       "      <td>0.563345</td>\n",
       "      <td>0.774227</td>\n",
       "      <td>0.995304</td>\n",
       "      <td>0.995647</td>\n",
       "      <td>0.844788</td>\n",
       "      <td>0.837228</td>\n",
       "    </tr>\n",
       "    <tr>\n",
       "      <th>train_roc_auc</th>\n",
       "      <td>0.500000</td>\n",
       "      <td>0.500000</td>\n",
       "      <td>0.807524</td>\n",
       "      <td>0.500000</td>\n",
       "      <td>0.500000</td>\n",
       "      <td>0.754984</td>\n",
       "      <td>0.994740</td>\n",
       "      <td>0.995045</td>\n",
       "      <td>0.838584</td>\n",
       "      <td>0.829455</td>\n",
       "    </tr>\n",
       "  </tbody>\n",
       "</table>\n",
       "</div>"
      ],
      "text/plain": [
       "                dtree_f1  dtree_rocauc     rf_f1  rf_rocauc     et_f1  \\\n",
       "test_f1         0.000000      0.000000  0.779079   0.000000  0.000000   \n",
       "test_accuracy   0.563230      0.563230  0.818557   0.563230  0.563230   \n",
       "test_roc_auc    0.500000      0.500000  0.808895   0.500000  0.500000   \n",
       "train_f1        0.000000      0.000000  0.776811   0.000000  0.000000   \n",
       "train_accuracy  0.563345      0.563345  0.817869   0.563345  0.563345   \n",
       "train_roc_auc   0.500000      0.500000  0.807524   0.500000  0.500000   \n",
       "\n",
       "                et_rocauc    xgb_f1  xgb_rocauc  logreg_f1  logreg_rocauc  \n",
       "test_f1          0.704639  0.824791    0.826855   0.792529       0.791514  \n",
       "test_accuracy    0.779038  0.848454    0.848454   0.824399       0.824399  \n",
       "test_roc_auc     0.759327  0.844887    0.846211   0.818056       0.817526  \n",
       "train_f1         0.699954  0.994599    0.994992   0.816271       0.804727  \n",
       "train_accuracy   0.774227  0.995304    0.995647   0.844788       0.837228  \n",
       "train_roc_auc    0.754984  0.994740    0.995045   0.838584       0.829455  "
      ]
     },
     "execution_count": 62,
     "metadata": {},
     "output_type": "execute_result"
    }
   ],
   "source": [
    "model_frame"
   ]
  },
  {
   "cell_type": "code",
   "execution_count": 41,
   "id": "08f7b490",
   "metadata": {},
   "outputs": [],
   "source": [
    "model_frame.drop(columns = ['dtree_f1', 'dtree_rocauc', 'rf_rocauc', 'et_f1'], inplace = True)"
   ]
  },
  {
   "cell_type": "code",
   "execution_count": 42,
   "id": "93c5953b",
   "metadata": {},
   "outputs": [
    {
     "data": {
      "text/html": [
       "<div>\n",
       "<style scoped>\n",
       "    .dataframe tbody tr th:only-of-type {\n",
       "        vertical-align: middle;\n",
       "    }\n",
       "\n",
       "    .dataframe tbody tr th {\n",
       "        vertical-align: top;\n",
       "    }\n",
       "\n",
       "    .dataframe thead th {\n",
       "        text-align: right;\n",
       "    }\n",
       "</style>\n",
       "<table border=\"1\" class=\"dataframe\">\n",
       "  <thead>\n",
       "    <tr style=\"text-align: right;\">\n",
       "      <th></th>\n",
       "      <th>rf_f1</th>\n",
       "      <th>et_rocauc</th>\n",
       "      <th>xgb_f1</th>\n",
       "      <th>xgb_rocauc</th>\n",
       "      <th>logreg_f1</th>\n",
       "      <th>logreg_rocauc</th>\n",
       "    </tr>\n",
       "  </thead>\n",
       "  <tbody>\n",
       "    <tr>\n",
       "      <th>f1</th>\n",
       "      <td>0.779079</td>\n",
       "      <td>0.704639</td>\n",
       "      <td>0.824791</td>\n",
       "      <td>0.826855</td>\n",
       "      <td>0.792529</td>\n",
       "      <td>0.791514</td>\n",
       "    </tr>\n",
       "    <tr>\n",
       "      <th>accuracy</th>\n",
       "      <td>0.818557</td>\n",
       "      <td>0.779038</td>\n",
       "      <td>0.848454</td>\n",
       "      <td>0.848454</td>\n",
       "      <td>0.824399</td>\n",
       "      <td>0.824399</td>\n",
       "    </tr>\n",
       "    <tr>\n",
       "      <th>roc_auc</th>\n",
       "      <td>0.808895</td>\n",
       "      <td>0.759327</td>\n",
       "      <td>0.844887</td>\n",
       "      <td>0.846211</td>\n",
       "      <td>0.818056</td>\n",
       "      <td>0.817526</td>\n",
       "    </tr>\n",
       "  </tbody>\n",
       "</table>\n",
       "</div>"
      ],
      "text/plain": [
       "             rf_f1  et_rocauc    xgb_f1  xgb_rocauc  logreg_f1  logreg_rocauc\n",
       "f1        0.779079   0.704639  0.824791    0.826855   0.792529       0.791514\n",
       "accuracy  0.818557   0.779038  0.848454    0.848454   0.824399       0.824399\n",
       "roc_auc   0.808895   0.759327  0.844887    0.846211   0.818056       0.817526"
      ]
     },
     "execution_count": 42,
     "metadata": {},
     "output_type": "execute_result"
    }
   ],
   "source": [
    "model_frame"
   ]
  },
  {
   "cell_type": "markdown",
   "id": "066d69ce",
   "metadata": {},
   "source": [
    "- From these we can select only the models that are above baseline accuracy (.56323), ruling out 4 of our 10 models. Some overfitting for XGBoost models, but strong enough on test that I will disregard it.\n",
    "- Selecting two from above for analysis, I select logreg_rocauc and xgb_rocauc. XGB because of all the tree models, it performed the best on test data, and Logistic Regression because I seek inferential power beyond a tree's feature selection. ROC AUC is my selected metric because I want models that are capable of differentiating the targets for inferential purposes."
   ]
  },
  {
   "cell_type": "code",
   "execution_count": 21,
   "id": "0a875b8f",
   "metadata": {},
   "outputs": [],
   "source": [
    "pickle.dump(model_frame, open('models/model_scores.sav', 'wb'))"
   ]
  },
  {
   "cell_type": "markdown",
   "id": "7b4d04d9",
   "metadata": {},
   "source": [
    "- Plot XGBoost model features."
   ]
  },
  {
   "cell_type": "code",
   "execution_count": 22,
   "id": "2dcf3253",
   "metadata": {
    "tags": []
   },
   "outputs": [],
   "source": [
    "def zip_and_sort_features(values):\n",
    "    zipped = zip(x_list, values)\n",
    "    features_dict = {entry[0]: entry[1] for entry in zipped}\n",
    "    #credit to: https://stackoverflow.com/questions/613183/how-do-i-sort-a-dictionary-by-value\n",
    "    features_dict_sorted = {k: v for k, v in sorted(features_dict.items(), key=lambda item: item[1], reverse = True)}\n",
    "    return features_dict_sorted"
   ]
  },
  {
   "cell_type": "code",
   "execution_count": 25,
   "id": "f8a01532",
   "metadata": {
    "tags": []
   },
   "outputs": [],
   "source": [
    "xgb_rocauc_features_dict_sorted = zip_and_sort_features(xgb_rocauc.feature_importances_)"
   ]
  },
  {
   "cell_type": "code",
   "execution_count": 26,
   "id": "60670b0c",
   "metadata": {
    "tags": []
   },
   "outputs": [
    {
     "data": {
      "image/png": "[encoded data removed]",
      "text/plain": [
       "<Figure size 432x288 with 1 Axes>"
      ]
     },
     "metadata": {
      "needs_background": "light"
     },
     "output_type": "display_data"
    }
   ],
   "source": [
    "keys = list(xgb_rocauc_features_dict_sorted.keys())\n",
    "values = list(xgb_rocauc_features_dict_sorted.values())\n",
    "\n",
    "plt.bar(keys[:20], values[:20])\n",
    "plt.xticks(rotation = 90)\n",
    "plt.title(\"Columns by feature importance assigned by XGBoost optimized for ROC AUC curvature\", y= 1.1)\n",
    "plt.ylabel(\"Feature importance\")\n",
    "plt.xlabel(\"Feature name\")\n",
    "plt.savefig('images/xgb_rocauc.png', bbox_inches = 'tight', pad_inches = .3)"
   ]
  },
  {
   "cell_type": "markdown",
   "id": "8c78d7d3",
   "metadata": {},
   "source": [
    "- A notable amount of what I would call 'debate' language and political language. Given the politeness of debate language when compared to the hyperbolic nature of Unpopular Opinion, it seems likely that these are features that identify Change my View."
   ]
  },
  {
   "cell_type": "markdown",
   "id": "ac22b034",
   "metadata": {},
   "source": [
    "- Plot Logistic Regression model features."
   ]
  },
  {
   "cell_type": "code",
   "execution_count": 35,
   "id": "52ad3261",
   "metadata": {
    "tags": []
   },
   "outputs": [],
   "source": [
    "logreg_rocauc_features_dict_sorted = zip_and_sort_features(logreg_rocauc.coef_[0])"
   ]
  },
  {
   "cell_type": "code",
   "execution_count": 36,
   "id": "32a04c70",
   "metadata": {
    "tags": []
   },
   "outputs": [
    {
     "data": {
      "image/png": "[encoded data removed]",
      "text/plain": [
       "<Figure size 432x288 with 1 Axes>"
      ]
     },
     "metadata": {
      "needs_background": "light"
     },
     "output_type": "display_data"
    }
   ],
   "source": [
    "keys = list(logreg_rocauc_features_dict_sorted.keys())\n",
    "values = [math.exp(val) - 1 for val in list(logreg_rocauc_features_dict_sorted.values())]\n",
    "\n",
    "plt.bar(keys[:20], values[:20])\n",
    "plt.xticks(rotation = 90)\n",
    "plt.title(\"Columns by how much they increase the odds of being from r/changemyview,\\npredicted by a Logistic Regression optimized for ROC AUC curvature\", y= 1.1)\n",
    "plt.ylabel(\"Odds increase per step\")\n",
    "plt.xlabel(\"Feature name\")\n",
    "plt.savefig('images/logreg_rocauc_pos_odds.png', bbox_inches = 'tight', pad_inches = .3)"
   ]
  },
  {
   "cell_type": "markdown",
   "id": "4445d9ec",
   "metadata": {},
   "source": [
    "- The above hypothesis is confirmed here. \"Believe\", \"argument\", \"evidence\", etc. are all formal disagreement language. Some additional confirmation that political events are relevant to the subreddit as well."
   ]
  },
  {
   "cell_type": "code",
   "execution_count": 37,
   "id": "b10a6039",
   "metadata": {
    "tags": []
   },
   "outputs": [],
   "source": [
    "logreg_rocauc_features_dict_sorted = zip_and_sort_features(logreg_rocauc.coef_[0])"
   ]
  },
  {
   "cell_type": "code",
   "execution_count": 38,
   "id": "75972406",
   "metadata": {
    "tags": []
   },
   "outputs": [
    {
     "data": {
      "image/png": "[encoded data removed]",
      "text/plain": [
       "<Figure size 432x288 with 1 Axes>"
      ]
     },
     "metadata": {
      "needs_background": "light"
     },
     "output_type": "display_data"
    }
   ],
   "source": [
    "keys = list(logreg_rocauc_features_dict_sorted.keys())\n",
    "values = [-1 * (math.exp(val) - 1) for val in list(logreg_rocauc_features_dict_sorted.values())]\n",
    "\n",
    "plt.bar(keys[len(keys) - 20:], values[len(values) - 20:])\n",
    "plt.xticks(rotation = 90)\n",
    "plt.title(\"Columns by how much they increase the odds of being from r/unpopularopinion,\\npredicted by a Logistic Regression optimized for ROC AUC curvature\", y= 1.1)\n",
    "plt.ylabel(\"Odds increase per step\")\n",
    "plt.xlabel(\"Feature name\")\n",
    "plt.savefig('images/logreg_rocauc_neg_odds.png', bbox_inches = 'tight', pad_inches = .3)"
   ]
  },
  {
   "cell_type": "markdown",
   "id": "c63c41c3",
   "metadata": {},
   "source": [
    "- Similar to what was found in EDA, the Logistic Regression shows that almost all hyperbolic negative adjectives ('hate', 'bullshit', etc.) identify Unpopular Opinion. All sentiment scores are included here, indicating that the more extreme spread of sentiment overall helps identify Unpopular Opinion posts."
   ]
  },
  {
   "cell_type": "markdown",
   "id": "eb1694c2",
   "metadata": {},
   "source": [
    "***Conclusions***"
   ]
  },
  {
   "cell_type": "markdown",
   "id": "77af029d",
   "metadata": {},
   "source": [
    "- Overall, it appears that Unpopular Opinion is a good target forum for a demo of astroturf marketing. Denigrating things is very common there, which would make the goal of generating negative public sentiment for our clientele’s competing products simple to add to the mix. Additionally, inserting a promotion for our clientele's product in the text statement of a reddit post would not appear to be amiss.\n",
    "- Change my View does not appear to have many characteristics that would make it a useful staging ground for a demo. There is a focus on geopolitical or societal issues, with little chance of making a stand for a clientele’s product without being seen as clear advertising. \n",
    "- I propose the company move forward with a demo for our clients on the Unpopular Opinion subreddit.\n"
   ]
  },
  {
   "cell_type": "markdown",
   "id": "ba186362",
   "metadata": {},
   "source": [
    "***Executive Summary***"
   ]
  },
  {
   "cell_type": "markdown",
   "id": "70c43e95",
   "metadata": {},
   "source": [
    "- [FAKE MEDIA GROUP] is one of the fastest growing companies on the market. You have original, interesting content all over your network. The problem is getting more users to keep that growth sustained.\n",
    "\n",
    "- As you are well aware, it can be difficult to get into the advertising space. Many consumers will simply ignore an advertisement out of hand, and without careful study of psychological tricks and tactics none of your ad will remain in their head. You need a way to create brand awareness and positive sentiment without treading on consumers delicate (metaphorical) toes.\n",
    "\n",
    "- The solution? Astroturf marketing. With the right training, and employee or chat bot can guide users toward your brand without their awareness that they are being advertised to. It's cheaper than buying airtime, can be picked up by real grassroots attention, and can be used to create negative public sentiment towards the competition. We can keep you informed on the latest trends in language and speech patterns on various fora so that you can do the advertising your company needs.\n",
    "\n",
    "- We have multiple machine learning models ready to show you that describe exactly what makes an individual post on a particular forum look like the others around it. Through hours of testing and analysis, we can give you the tools to convince potential users that your advertisements are just normal forum posts.\n",
    "\n",
    "- If you're ready, we'd love to take you on as our client. [FAKE MEDIA GROUP] represents a load of loveable media that we want to see flourish in today's market. With the right tools in your hands, we're sure that you can make that happen."
   ]
  }
 ],
 "metadata": {
  "kernelspec": {
   "display_name": "Python 3",
   "language": "python",
   "name": "python3"
  },
  "language_info": {
   "codemirror_mode": {
    "name": "ipython",
    "version": 3
   },
   "file_extension": ".py",
   "mimetype": "text/x-python",
   "name": "python",
   "nbconvert_exporter": "python",
   "pygments_lexer": "ipython3",
   "version": "3.7.6"
  }
 },
 "nbformat": 4,
 "nbformat_minor": 5
}
