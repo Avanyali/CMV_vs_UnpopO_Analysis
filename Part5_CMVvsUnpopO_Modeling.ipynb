{
 "cells": [
  {
   "cell_type": "code",
   "execution_count": null,
   "id": "9714d153",
   "metadata": {},
   "outputs": [],
   "source": [
    "import pandas as pd\n",
    "import numpy as np\n",
    "import seaborn as sns\n",
    "import matplotlib.pyplot as plt\n",
    "from sklearn.model_selection import train_test_split, RandomizedSearchCV\n",
    "from sklearn.pipeline import Pipeline\n",
    "from sklearn.metrics import confusion_matrix, plot_confusion_matrix\n",
    "\n",
    "from skopt.space import Integer, Real, Categorical\n",
    "from skopt import BayesSearchCV\n",
    "from scipy.stats import uniform, loguniform\n",
    "\n",
    "from sklearn.ensemble import RandomForestClassifier, ExtraTreesClassifier\n",
    "from sklearn.tree import DecisionTreeClassifier\n",
    "from sklearn.linear_model import LogisticRegression\n",
    "from xgboost import XGBClassifier\n",
    "\n",
    "from sklearn.preprocessing import StandardScaler\n",
    "import pickle"
   ]
  },
  {
   "cell_type": "code",
   "execution_count": null,
   "id": "a42a9c4f",
   "metadata": {},
   "outputs": [],
   "source": [
    "df = pd.read_csv('data/explored_cmv&unpop_data')"
   ]
  },
  {
   "cell_type": "code",
   "execution_count": null,
   "id": "d95870f9",
   "metadata": {},
   "outputs": [],
   "source": [
    "df.drop(columns = ['Unnamed: 0'], inplace = True)"
   ]
  },
  {
   "cell_type": "code",
   "execution_count": null,
   "id": "7e9adf89",
   "metadata": {},
   "outputs": [],
   "source": [
    "x_list = df.select_dtypes(exclude = np.dtype('O')).columns.tolist()\n",
    "x_list.remove('post_subreddit')\n",
    "X = df[x_list]\n",
    "y = df['post_subreddit']\n",
    "\n",
    "X = X.astype(np.dtype('float64'))\n",
    "\n",
    "X_train, X_test, y_train, y_test = train_test_split(X, y, random_state = 42, stratify = y)"
   ]
  },
  {
   "cell_type": "markdown",
   "id": "38ea1ebb",
   "metadata": {},
   "source": [
    "- Dummy"
   ]
  },
  {
   "cell_type": "code",
   "execution_count": null,
   "id": "2db5aa35",
   "metadata": {},
   "outputs": [],
   "source": [
    "df['post_subreddit'].value_counts(normalize = True)"
   ]
  },
  {
   "cell_type": "markdown",
   "id": "be9fdb68",
   "metadata": {},
   "source": [
    "- XGBoost"
   ]
  },
  {
   "cell_type": "code",
   "execution_count": null,
   "id": "ec3b7d08",
   "metadata": {},
   "outputs": [],
   "source": [
    "xgb_pipe = Pipeline([\n",
    "    ('xgb', XGBClassifier(base_score = .563149, random_state = 42, booster = 'gbtree', use_label_encoder = False, verbosity = 0))\n",
    "])\n",
    "\n",
    "xgb_params = {\n",
    "    'xgb__n_estimators': Integer(1, 100),\n",
    "    'xgb__max_depth': Integer(1, 100),\n",
    "    'xgb__max_delta_step': Real(0, .5),\n",
    "    'xgb__min_child_weight': Real(0, 2, prior='uniform'),\n",
    "    'xgb__learning_rate': Real(0, .2, prior='uniform')\n",
    "}\n",
    "\n",
    "xgb_bs = BayesSearchCV(estimator = xgb_pipe,\n",
    "                     search_spaces = xgb_params,\n",
    "                     scoring = 'f1',\n",
    "                     n_iter = 50,\n",
    "                     n_jobs = 8,\n",
    "                     cv = 5,\n",
    "                     verbose = 1,\n",
    "                     refit = True,\n",
    "                     optimizer_kwargs = {'base_estimator': 'RF'},\n",
    "                     random_state=42)\n",
    "\n",
    "xgb_bs_rocauc = BayesSearchCV(estimator = xgb_pipe,\n",
    "                     search_spaces = xgb_params,\n",
    "                     scoring = 'roc_auc',\n",
    "                     n_iter = 50,\n",
    "                     n_jobs = 8,\n",
    "                     cv = 5,\n",
    "                     verbose = 1,\n",
    "                     refit = True,\n",
    "                     optimizer_kwargs = {'base_estimator': 'RF'},\n",
    "                     random_state=42)"
   ]
  },
  {
   "cell_type": "code",
   "execution_count": null,
   "id": "e7be7d66",
   "metadata": {},
   "outputs": [],
   "source": [
    "xgb_bs.fit(X_train, y_train)"
   ]
  },
  {
   "cell_type": "code",
   "execution_count": null,
   "id": "0e53e372",
   "metadata": {},
   "outputs": [],
   "source": [
    "xgb = xgb_bs.best_estimator_['xgb']"
   ]
  },
  {
   "cell_type": "code",
   "execution_count": null,
   "id": "cb1d2795",
   "metadata": {},
   "outputs": [],
   "source": [
    "pickle.dump(xgb, open('models/XGBoost.sav', 'wb'))"
   ]
  },
  {
   "cell_type": "code",
   "execution_count": null,
   "id": "b65bdc3c",
   "metadata": {},
   "outputs": [],
   "source": [
    "xgb_bs_rocauc.fit(X_train, y_train)"
   ]
  },
  {
   "cell_type": "code",
   "execution_count": null,
   "id": "0cd8ec5a",
   "metadata": {},
   "outputs": [],
   "source": [
    "xgb_rocauc = xgb_bs_rocauc.best_estimator_['xgb']"
   ]
  },
  {
   "cell_type": "code",
   "execution_count": null,
   "id": "870ff74a",
   "metadata": {},
   "outputs": [],
   "source": [
    "pickle.dump(xgb_rocauc, open('models/XGBoost_rocauc.sav', 'wb'))"
   ]
  },
  {
   "cell_type": "markdown",
   "id": "be982e3c",
   "metadata": {},
   "source": [
    "- Logistic Regression"
   ]
  },
  {
   "cell_type": "code",
   "execution_count": null,
   "id": "9877aa3e",
   "metadata": {},
   "outputs": [],
   "source": [
    "logreg_pipe = Pipeline([\n",
    "    ('logreg', LogisticRegression(random_state = 42, solver = 'saga'))\n",
    "])\n",
    "\n",
    "logreg_params = {\n",
    "    'logreg__penalty': Categorical(['l1', 'l2', 'elasticnet']),\n",
    "    'logreg__tol': Real(0, .1, prior='uniform'),\n",
    "    'logreg__C': Real(0.0001, 100, prior='log-uniform'),\n",
    "    'logreg__class_weight': Categorical(['balanced', None]),\n",
    "    'logreg__max_iter': Integer(500, 1000),\n",
    "    'logreg__l1_ratio': Real(0, 1, prior='uniform')\n",
    "}\n",
    "\n",
    "logreg_bs = BayesSearchCV(estimator = logreg_pipe,\n",
    "                     search_spaces = logreg_params,\n",
    "                     scoring = 'f1',\n",
    "                     n_iter = 50,\n",
    "                     n_jobs = 8,\n",
    "                     cv = 5,\n",
    "                     refit = True,\n",
    "                     optimizer_kwargs = {'base_estimator': 'RF'},\n",
    "                     random_state=42)\n",
    "\n",
    "logreg_bs_rocauc = BayesSearchCV(estimator = logreg_pipe,\n",
    "                     search_spaces = logreg_params,\n",
    "                     scoring = 'roc_auc',\n",
    "                     n_iter = 50,\n",
    "                     n_jobs = 8,\n",
    "                     cv = 5,\n",
    "                     refit = True,\n",
    "                     optimizer_kwargs = {'base_estimator': 'RF'},\n",
    "                     random_state=42)"
   ]
  },
  {
   "cell_type": "code",
   "execution_count": null,
   "id": "8d830251",
   "metadata": {},
   "outputs": [],
   "source": [
    "logreg_bs.fit(X_train, y_train)"
   ]
  },
  {
   "cell_type": "code",
   "execution_count": null,
   "id": "cd24499a",
   "metadata": {},
   "outputs": [],
   "source": [
    "logreg = logreg_bs.best_estimator_['logreg']"
   ]
  },
  {
   "cell_type": "code",
   "execution_count": null,
   "id": "ebfc6521",
   "metadata": {},
   "outputs": [],
   "source": [
    "pickle.dump(logreg, open('models/LogisticRegression.sav', 'wb'))"
   ]
  },
  {
   "cell_type": "code",
   "execution_count": null,
   "id": "8634d155",
   "metadata": {},
   "outputs": [],
   "source": [
    "logreg_bs_rocauc.fit(X_train, y_train)"
   ]
  },
  {
   "cell_type": "code",
   "execution_count": null,
   "id": "5ab1ce0a",
   "metadata": {},
   "outputs": [],
   "source": [
    "logreg_rocauc = logreg_bs_rocauc.best_estimator_['logreg']"
   ]
  },
  {
   "cell_type": "code",
   "execution_count": null,
   "id": "19598fb7",
   "metadata": {},
   "outputs": [],
   "source": [
    "pickle.dump(logreg_rocauc, open('models/LogisticRegression_rocauc.sav', 'wb'))"
   ]
  },
  {
   "cell_type": "markdown",
   "id": "e9183880",
   "metadata": {},
   "source": [
    "- Decision Tree"
   ]
  },
  {
   "cell_type": "code",
   "execution_count": null,
   "id": "b2201672",
   "metadata": {},
   "outputs": [],
   "source": [
    "dtree_pipe = Pipeline([\n",
    "    ('dtree', DecisionTreeClassifier(random_state = 42))\n",
    "])\n",
    "\n",
    "dtree_params = {\n",
    "    'dtree__criterion': Categorical(['gini', 'entropy']),\n",
    "    'dtree__splitter': Categorical(['best', 'random']),\n",
    "    'dtree__max_depth': Integer(1, 100),\n",
    "    'dtree__min_samples_split': Real(0, .5),\n",
    "    'dtree__min_samples_leaf': Real(0, .5),\n",
    "    'dtree__max_features': Categorical(['auto', 'sqrt', 'log2']),\n",
    "    'dtree__min_impurity_decrease': Real(0, .2, prior='uniform'),\n",
    "    'dtree__ccp_alpha': Real(0, .2, prior='uniform')\n",
    "}\n",
    "\n",
    "dtree_bs = BayesSearchCV(estimator = dtree_pipe,\n",
    "                     search_spaces = dtree_params,\n",
    "                     scoring = 'f1',\n",
    "                     n_iter = 50,\n",
    "                     cv = 5,\n",
    "                     n_jobs = 8,\n",
    "                     refit = True,\n",
    "                     optimizer_kwargs = {'base_estimator': 'RF'},\n",
    "                     random_state=42)\n",
    "\n",
    "dtree_bs_rocauc = BayesSearchCV(estimator = dtree_pipe,\n",
    "                     search_spaces = dtree_params,\n",
    "                     scoring = 'roc_auc',\n",
    "                     n_iter = 50,\n",
    "                     cv = 5,\n",
    "                     n_jobs = 8,\n",
    "                     refit = True,\n",
    "                     optimizer_kwargs = {'base_estimator': 'RF'},\n",
    "                     random_state=42)"
   ]
  },
  {
   "cell_type": "code",
   "execution_count": null,
   "id": "5fedd11c",
   "metadata": {},
   "outputs": [],
   "source": [
    "dtree_bs.fit(X_train, y_train)"
   ]
  },
  {
   "cell_type": "code",
   "execution_count": null,
   "id": "4af494ea",
   "metadata": {},
   "outputs": [],
   "source": [
    "dtree = dtree_bs.best_estimator_['dtree']"
   ]
  },
  {
   "cell_type": "code",
   "execution_count": null,
   "id": "700004cc",
   "metadata": {},
   "outputs": [],
   "source": [
    "pickle.dump(dtree, open('models/DecisionTree.sav', 'wb'))"
   ]
  },
  {
   "cell_type": "code",
   "execution_count": null,
   "id": "c3be239c",
   "metadata": {},
   "outputs": [],
   "source": [
    "dtree_bs_rocauc.fit(X_train, y_train)"
   ]
  },
  {
   "cell_type": "code",
   "execution_count": null,
   "id": "b79a8a82",
   "metadata": {},
   "outputs": [],
   "source": [
    "dtree_rocauc = dtree_bs_rocauc.best_estimator_['dtree']"
   ]
  },
  {
   "cell_type": "code",
   "execution_count": null,
   "id": "0ad7f931",
   "metadata": {},
   "outputs": [],
   "source": [
    "pickle.dump(dtree_rocauc, open('models/DecisionTree_rocauc.sav', 'wb'))"
   ]
  },
  {
   "cell_type": "markdown",
   "id": "bb00f5de",
   "metadata": {},
   "source": [
    "- Random Forest"
   ]
  },
  {
   "cell_type": "code",
   "execution_count": null,
   "id": "08e6d23d",
   "metadata": {},
   "outputs": [],
   "source": [
    "rf_pipe = Pipeline([\n",
    "    ('rf', RandomForestClassifier(random_state = 42))\n",
    "])\n",
    "\n",
    "rf_params = {\n",
    "    'rf__criterion': Categorical(['gini', 'entropy']),\n",
    "    'rf__n_estimators': Integer(5, 200),\n",
    "    'rf__min_samples_split': Real(0, .5),\n",
    "    'rf__min_samples_leaf': Real(0, .5),\n",
    "    'rf__max_depth': Integer(1, 100),\n",
    "    'rf__max_features': Categorical(['auto', 'sqrt', 'log2']),\n",
    "    'rf__min_impurity_decrease': Real(0, .2, prior='uniform'),\n",
    "    'rf__ccp_alpha': Real(0, .2, prior='uniform'),\n",
    "    'rf__max_samples': Real(0, 1)\n",
    "}\n",
    "\n",
    "rf_bs = BayesSearchCV(estimator = rf_pipe,\n",
    "                     search_spaces = rf_params,\n",
    "                     scoring = 'roc_auc',\n",
    "                     n_iter = 50,\n",
    "                     cv = 5,\n",
    "                     n_jobs = 8,\n",
    "                     refit = True,\n",
    "                     optimizer_kwargs = {'base_estimator': 'RF'},\n",
    "                     random_state=42)\n",
    "\n",
    "rf_bs_rocauc = BayesSearchCV(estimator = rf_pipe,\n",
    "                     search_spaces = rf_params,\n",
    "                     scoring = 'roc_auc',\n",
    "                     n_iter = 50,\n",
    "                     cv = 5,\n",
    "                     n_jobs = 8,\n",
    "                     refit = True,\n",
    "                     optimizer_kwargs = {'base_estimator': 'RF'},\n",
    "                     random_state=42)"
   ]
  },
  {
   "cell_type": "code",
   "execution_count": null,
   "id": "eaff313c",
   "metadata": {},
   "outputs": [],
   "source": [
    "rf_bs.fit(X_train, y_train)"
   ]
  },
  {
   "cell_type": "code",
   "execution_count": null,
   "id": "5b8db46c",
   "metadata": {},
   "outputs": [],
   "source": [
    "rf = rf_bs.best_estimator_['rf']"
   ]
  },
  {
   "cell_type": "code",
   "execution_count": null,
   "id": "d6bdd64e",
   "metadata": {},
   "outputs": [],
   "source": [
    "pickle.dump(rf, open('models/RandomForest.sav', 'wb'))"
   ]
  },
  {
   "cell_type": "code",
   "execution_count": null,
   "id": "6e864ff6",
   "metadata": {},
   "outputs": [],
   "source": [
    "rf_bs_rocauc.fit(X_train, y_train)"
   ]
  },
  {
   "cell_type": "code",
   "execution_count": null,
   "id": "9b1e85bb",
   "metadata": {},
   "outputs": [],
   "source": [
    "rf_rocauc = rf_bs_rocauc.best_estimator_['rf']"
   ]
  },
  {
   "cell_type": "code",
   "execution_count": null,
   "id": "ace7e037",
   "metadata": {},
   "outputs": [],
   "source": [
    "pickle.dump(rf_rocauc, open('models/RandomForest_rocauc.sav', 'wb'))"
   ]
  },
  {
   "cell_type": "markdown",
   "id": "4217c950",
   "metadata": {},
   "source": [
    "- Extra Trees"
   ]
  },
  {
   "cell_type": "code",
   "execution_count": null,
   "id": "8176ab96",
   "metadata": {},
   "outputs": [],
   "source": [
    "et_pipe = Pipeline([\n",
    "    ('et', ExtraTreesClassifier(random_state = 42))\n",
    "])\n",
    "\n",
    "et_params = {\n",
    "    'et__criterion': Categorical(['gini', 'entropy']),\n",
    "    'et__n_estimators': Integer(5, 200),\n",
    "    'et__min_samples_split': Real(0, .5),\n",
    "    'et__min_samples_leaf': Real(0, .5),\n",
    "    'et__max_depth': Integer(1, 100),\n",
    "    'et__max_features': Categorical(['auto', 'sqrt', 'log2']),\n",
    "    'et__min_impurity_decrease': Real(0, .2, prior='uniform'),\n",
    "    'et__ccp_alpha': Real(0, .2, prior='uniform'),\n",
    "    'et__max_samples': Real(0, 1)\n",
    "}\n",
    "\n",
    "et_bs = BayesSearchCV(estimator = et_pipe,\n",
    "                     search_spaces = et_params,\n",
    "                     scoring = 'f1',\n",
    "                     n_iter = 50,\n",
    "                     cv = 5,\n",
    "                     refit = True,\n",
    "                     n_jobs = 8,\n",
    "                     optimizer_kwargs = {'base_estimator': 'RF'},\n",
    "                     random_state=42)\n",
    "\n",
    "et_bs_rocauc = BayesSearchCV(estimator = et_pipe,\n",
    "                     search_spaces = et_params,\n",
    "                     scoring = 'roc_auc',\n",
    "                     n_iter = 50,\n",
    "                     cv = 5,\n",
    "                     refit = True,\n",
    "                     n_jobs = 8,\n",
    "                     optimizer_kwargs = {'base_estimator': 'RF'},\n",
    "                     random_state=42)"
   ]
  },
  {
   "cell_type": "code",
   "execution_count": null,
   "id": "4c7c4b4e",
   "metadata": {},
   "outputs": [],
   "source": [
    "et_bs.fit(X_train, y_train)"
   ]
  },
  {
   "cell_type": "code",
   "execution_count": null,
   "id": "53bf3645",
   "metadata": {},
   "outputs": [],
   "source": [
    "et = et_bs.best_estimator_['et']"
   ]
  },
  {
   "cell_type": "code",
   "execution_count": null,
   "id": "47a69f93",
   "metadata": {},
   "outputs": [],
   "source": [
    "pickle.dump(et, open('models/ExtraTrees.sav', 'wb'))"
   ]
  },
  {
   "cell_type": "code",
   "execution_count": null,
   "id": "6474be4f",
   "metadata": {},
   "outputs": [],
   "source": [
    "et_bs_rocauc.fit(X_train, y_train)"
   ]
  },
  {
   "cell_type": "code",
   "execution_count": null,
   "id": "18503d76",
   "metadata": {},
   "outputs": [],
   "source": [
    "et_rocauc = et_bs_rocauc.best_estimator_['et']"
   ]
  },
  {
   "cell_type": "code",
   "execution_count": null,
   "id": "c4ef3f8f",
   "metadata": {},
   "outputs": [],
   "source": [
    "pickle.dump(et_rocauc, open('models/ExtraTrees_rocauc.sav', 'wb'))"
   ]
  },
  {
   "cell_type": "markdown",
   "id": "9a64b148",
   "metadata": {},
   "source": [
    "- To step 6 ->"
   ]
  }
 ],
 "metadata": {
  "kernelspec": {
   "display_name": "Python 3",
   "language": "python",
   "name": "python3"
  },
  "language_info": {
   "codemirror_mode": {
    "name": "ipython",
    "version": 3
   },
   "file_extension": ".py",
   "mimetype": "text/x-python",
   "name": "python",
   "nbconvert_exporter": "python",
   "pygments_lexer": "ipython3",
   "version": "3.7.6"
  }
 },
 "nbformat": 4,
 "nbformat_minor": 5
}
