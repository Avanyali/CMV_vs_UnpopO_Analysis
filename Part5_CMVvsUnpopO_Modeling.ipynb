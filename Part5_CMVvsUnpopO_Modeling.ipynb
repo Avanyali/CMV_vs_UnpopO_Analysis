{
 "cells": [
  {
   "cell_type": "code",
   "execution_count": 88,
   "id": "7a8bca09",
   "metadata": {},
   "outputs": [],
   "source": [
    "import pandas as pd\n",
    "import numpy as np\n",
    "import seaborn as sns\n",
    "import matplotlib.pyplot as plt\n",
    "from sklearn.model_selection import train_test_split, RandomizedSearchCV\n",
    "from sklearn.pipeline import Pipeline\n",
    "from sklearn.metrics import confusion_matrix, plot_confusion_matrix\n",
    "\n",
    "from skopt.space import Integer, Real, Categorical\n",
    "from skopt import BayesSearchCV\n",
    "from scipy.stats import uniform, loguniform\n",
    "\n",
    "from sklearn.ensemble import RandomForestClassifier, ExtraTreesClassifier, BaggingClassifier, AdaBoostClassifier, VotingClassifier\n",
    "from sklearn.tree import DecisionTreeClassifier\n",
    "from sklearn.linear_model import LogisticRegression\n",
    "from xgboost import XGBClassifier\n",
    "\n",
    "from sklearn.preprocessing import StandardScaler\n",
    "import pickle"
   ]
  },
  {
   "cell_type": "code",
   "execution_count": 2,
   "id": "880d1b26",
   "metadata": {},
   "outputs": [],
   "source": [
    "def metrics(tn, fp, fn, tp, metric = ['accuracy']):\n",
    "    answers = {}\n",
    "    \n",
    "    if 'accuracy' in metric or 'all' in metric:\n",
    "        answers['accuracy'] = (tp + tn) / (tn + fn + fp + tp)\n",
    "    if 'sensitivity' in metric  or 'all' in metric:\n",
    "        answers['sensitivity'] = tp / (tp + fn)\n",
    "    if 'specificity' in metric  or 'all' in metric:\n",
    "        answers['specificity'] = tn / (tn + fp)\n",
    "    if 'f1' in metric or 'all' in metric:\n",
    "        answers['f1'] = tp / (tp + .5*(fp + fn))\n",
    "\n",
    "    return answers"
   ]
  },
  {
   "cell_type": "code",
   "execution_count": 3,
   "id": "a4c3546f",
   "metadata": {},
   "outputs": [],
   "source": [
    "df = pd.read_csv('data/explored_cmv&unpop_data')"
   ]
  },
  {
   "cell_type": "code",
   "execution_count": 4,
   "id": "5634f9aa",
   "metadata": {},
   "outputs": [],
   "source": [
    "df.drop(columns = ['Unnamed: 0'], inplace = True)"
   ]
  },
  {
   "cell_type": "code",
   "execution_count": 5,
   "id": "b784a938",
   "metadata": {},
   "outputs": [],
   "source": [
    "train = df[df['training_set'] == 1]\n",
    "test = df[df['training_set'] == 0]"
   ]
  },
  {
   "cell_type": "code",
   "execution_count": 6,
   "id": "71729011",
   "metadata": {},
   "outputs": [],
   "source": [
    "x_list = df.select_dtypes(exclude = np.dtype('O')).columns.tolist()\n",
    "x_list.remove('post_subreddit')\n",
    "X = df[x_list]\n",
    "y = df['post_subreddit']\n",
    "\n",
    "X = X.astype(np.dtype('float64'))\n",
    "\n",
    "X_train, X_test, y_train, y_test = train_test_split(X, y, random_state = 42, stratify = y)"
   ]
  },
  {
   "cell_type": "markdown",
   "id": "216e9425",
   "metadata": {},
   "source": [
    "- Dummy"
   ]
  },
  {
   "cell_type": "code",
   "execution_count": 68,
   "id": "b2070ceb",
   "metadata": {},
   "outputs": [
    {
     "data": {
      "text/plain": [
       "0    0.563149\n",
       "1    0.436851\n",
       "Name: post_subreddit, dtype: float64"
      ]
     },
     "execution_count": 68,
     "metadata": {},
     "output_type": "execute_result"
    }
   ],
   "source": [
    "df['post_subreddit'].value_counts(normalize = True)"
   ]
  },
  {
   "cell_type": "markdown",
   "id": "74c9bf2f",
   "metadata": {},
   "source": [
    "- XGBoost"
   ]
  },
  {
   "cell_type": "code",
   "execution_count": null,
   "id": "9ac6f328",
   "metadata": {},
   "outputs": [],
   "source": [
    "xgb_pipe = Pipeline([\n",
    "    ('xgb', XGBClassifier(base_score = .563149, random_state = 42, booster = 'gbtree', use_label_encoder = False, verbosity = 0))\n",
    "])\n",
    "\n",
    "xgb_params = {\n",
    "    'xgb__n_estimators': Integer(1, 100),\n",
    "    'xgb__max_depth': Integer(1, 100),\n",
    "    'xgb__max_delta_step': Real(0, .5),\n",
    "    'xgb__min_child_weight': Real(0, 2, prior='uniform'),\n",
    "    'xgb__learning_rate': Real(0, .2, prior='uniform')\n",
    "}\n",
    "\n",
    "xgb_bs = BayesSearchCV(estimator = xgb_pipe,\n",
    "                     search_spaces = xgb_params,\n",
    "                     scoring = 'f1_weighted',\n",
    "                     n_iter = 50,\n",
    "                     cv = 5,\n",
    "                     refit = True,\n",
    "                     optimizer_kwargs = {'base_estimator': 'RF'},\n",
    "                     random_state=42)"
   ]
  },
  {
   "cell_type": "raw",
   "id": "a5eb8371",
   "metadata": {},
   "source": [
    "xgb_bs.fit(X_train, y_train)"
   ]
  },
  {
   "cell_type": "raw",
   "id": "eaae4e3a",
   "metadata": {},
   "source": [
    "xgb_bs.best_params_"
   ]
  },
  {
   "cell_type": "raw",
   "id": "b68960f9",
   "metadata": {},
   "source": [
    "xgb_preds = xgb_bs.predict(X_test)"
   ]
  },
  {
   "cell_type": "raw",
   "id": "913aea4c",
   "metadata": {},
   "source": [
    "xgb_tn, xgb_fp, xgb_fn, xgb_tp = confusion_matrix(y_test, xgb_preds).ravel()"
   ]
  },
  {
   "cell_type": "raw",
   "id": "8c79d634",
   "metadata": {
    "tags": []
   },
   "source": [
    "metrics(xgb_tn, xgb_fp, xgb_fn, xgb_tp, metric = 'all')"
   ]
  },
  {
   "cell_type": "raw",
   "id": "0f478a0a",
   "metadata": {},
   "source": [
    "xgb = xgb_bs.best_estimator_['xgb']"
   ]
  },
  {
   "cell_type": "raw",
   "id": "cf2f3817",
   "metadata": {},
   "source": [
    "pickle.dump(xgb, open('models/XGBoost.sav', 'wb'))"
   ]
  },
  {
   "cell_type": "markdown",
   "id": "9391b23d",
   "metadata": {},
   "source": [
    "- Bagger"
   ]
  },
  {
   "cell_type": "code",
   "execution_count": 93,
   "id": "4493cde9",
   "metadata": {},
   "outputs": [],
   "source": [
    "bc_pipe = Pipeline([\n",
    "    ('bc', BaggingClassifier(random_state = 42))\n",
    "])\n",
    "\n",
    "bc_params = {\n",
    "    'bc__n_estimators': Integer(1, 100),\n",
    "    'bc__max_samples': Real(0, 1, prior='uniform'),\n",
    "    'bc__max_features': Real(0, 1, prior='uniform')\n",
    "}\n",
    "\n",
    "bc_bs = BayesSearchCV(estimator = bc_pipe,\n",
    "                     search_spaces = bc_params,\n",
    "                     scoring = 'f1_weighted',\n",
    "                     n_iter = 50,\n",
    "                     cv = 5,\n",
    "                     refit = True,\n",
    "                     optimizer_kwargs = {'base_estimator': 'RF'},\n",
    "                     random_state=42)"
   ]
  },
  {
   "cell_type": "code",
   "execution_count": null,
   "id": "8bbba827",
   "metadata": {},
   "outputs": [],
   "source": [
    "bc_bs.fit(X_train, y_train)"
   ]
  },
  {
   "cell_type": "code",
   "execution_count": 38,
   "id": "d55f8f8d",
   "metadata": {},
   "outputs": [
    {
     "data": {
      "text/plain": [
       "OrderedDict([('dtree__ccp_alpha', 0.0032264260031510178),\n",
       "             ('dtree__criterion', 'entropy'),\n",
       "             ('dtree__max_depth', 33),\n",
       "             ('dtree__max_features', 'auto'),\n",
       "             ('dtree__min_impurity_decrease', 0.003985865308459347),\n",
       "             ('dtree__min_samples_leaf', 0.01257641629953549),\n",
       "             ('dtree__min_samples_split', 0.47069904669835266),\n",
       "             ('dtree__splitter', 'best')])"
      ]
     },
     "execution_count": 38,
     "metadata": {},
     "output_type": "execute_result"
    }
   ],
   "source": [
    "bc_bs.best_params_"
   ]
  },
  {
   "cell_type": "code",
   "execution_count": 39,
   "id": "59690bad",
   "metadata": {},
   "outputs": [],
   "source": [
    "bc_preds = bc_bs.predict(X_test)"
   ]
  },
  {
   "cell_type": "code",
   "execution_count": 40,
   "id": "219dc66d",
   "metadata": {},
   "outputs": [],
   "source": [
    "bc_tn, bc_fp, bc_fn, bc_tp = confusion_matrix(y_test, bc_preds).ravel()"
   ]
  },
  {
   "cell_type": "code",
   "execution_count": 41,
   "id": "0cc17c43",
   "metadata": {
    "tags": []
   },
   "outputs": [
    {
     "data": {
      "text/plain": [
       "{'accuracy': 0.7475961538461539,\n",
       " 'sensitivity': 0.5636792452830188,\n",
       " 'specificity': 0.8902439024390244,\n",
       " 'f1': 0.661134163208852}"
      ]
     },
     "execution_count": 41,
     "metadata": {},
     "output_type": "execute_result"
    }
   ],
   "source": [
    "metrics(bc_tn, bc_fp, bc_fn, bc_tp, metric = 'all')"
   ]
  },
  {
   "cell_type": "code",
   "execution_count": null,
   "id": "bc48ccc5",
   "metadata": {},
   "outputs": [],
   "source": [
    "bc = bc_bs.best_estimator_['bc']"
   ]
  },
  {
   "cell_type": "code",
   "execution_count": null,
   "id": "a300a354",
   "metadata": {},
   "outputs": [],
   "source": [
    "pickle.dump(bc, open('models/Bagger.sav', 'wb'))"
   ]
  },
  {
   "cell_type": "markdown",
   "id": "d533fbdc",
   "metadata": {},
   "source": [
    "- Logistic Regression"
   ]
  },
  {
   "cell_type": "code",
   "execution_count": 100,
   "id": "bec8540a",
   "metadata": {},
   "outputs": [],
   "source": [
    "logreg_pipe = Pipeline([\n",
    "    ('logreg', LogisticRegression(random_state = 42, solver = 'saga'))\n",
    "])\n",
    "\n",
    "logreg_params = {\n",
    "    'logreg__penalty': Categorical(['l1', 'l2', 'elasticnet']),\n",
    "    'logreg__tol': Real(0, .1, prior='uniform'),\n",
    "    'logreg__C': Real(0, 100, prior='uniform'),\n",
    "    'logreg__class_weight': Categorical(['balanced', None]),\n",
    "    'logreg__max_iter': Integer(0, 1000),\n",
    "    'logreg__l1_ratio': Real(0, 1, prior='uniform')\n",
    "}\n",
    "\n",
    "logreg_bs = BayesSearchCV(estimator = logreg_pipe,\n",
    "                     search_spaces = logreg_params,\n",
    "                     scoring = 'f1_weighted',\n",
    "                     n_iter = 50,\n",
    "                     cv = 5,\n",
    "                     refit = True,\n",
    "                     optimizer_kwargs = {'base_estimator': 'RF'},\n",
    "                     random_state=42)"
   ]
  },
  {
   "cell_type": "raw",
   "id": "66359193",
   "metadata": {},
   "source": [
    "logreg_bs.fit(X_train, y_train)"
   ]
  },
  {
   "cell_type": "raw",
   "id": "7b999df2",
   "metadata": {},
   "source": [
    "logreg_bs.best_params_"
   ]
  },
  {
   "cell_type": "raw",
   "id": "201bf65f",
   "metadata": {},
   "source": [
    "logreg_preds = logreg_bs.predict(X_test)"
   ]
  },
  {
   "cell_type": "raw",
   "id": "e16cbc5b",
   "metadata": {},
   "source": [
    "logreg_tn, logreg_fp, logreg_fn, logreg_tp = confusion_matrix(y_test, logreg_preds).ravel()"
   ]
  },
  {
   "cell_type": "raw",
   "id": "09752320",
   "metadata": {
    "tags": []
   },
   "source": [
    "metrics(logreg_tn, logreg_fp, logreg_fn, logreg_tp, metric = 'all')"
   ]
  },
  {
   "cell_type": "raw",
   "id": "ea24b7c0",
   "metadata": {},
   "source": [
    "logreg = logreg_bs.best_estimator_['logreg']"
   ]
  },
  {
   "cell_type": "raw",
   "id": "75fdee03",
   "metadata": {},
   "source": [
    "pickle.dump(logreg, open('models/LogisticRegression.sav', 'wb'))"
   ]
  },
  {
   "cell_type": "markdown",
   "id": "6c4926b3",
   "metadata": {},
   "source": [
    "- Decision Tree"
   ]
  },
  {
   "cell_type": "code",
   "execution_count": 36,
   "id": "ac99247e",
   "metadata": {},
   "outputs": [],
   "source": [
    "dtree_pipe = Pipeline([\n",
    "    ('dtree', DecisionTreeClassifier(random_state = 42))\n",
    "])\n",
    "\n",
    "dtree_params = {\n",
    "    'dtree__criterion': Categorical(['gini', 'entropy']),\n",
    "    'dtree__splitter': Categorical(['best', 'random']),\n",
    "    'dtree__max_depth': Integer(1, 100),\n",
    "    'dtree__min_samples_split': Real(0, .5),\n",
    "    'dtree__min_samples_leaf': Real(0, .5),\n",
    "    'dtree__max_features': Categorical(['auto', 'sqrt', 'log2']),\n",
    "    'dtree__min_impurity_decrease': Real(0, .2, prior='uniform'),\n",
    "    'dtree__ccp_alpha': Real(0, .2, prior='uniform')\n",
    "}\n",
    "\n",
    "dtree_bs = BayesSearchCV(estimator = dtree_pipe,\n",
    "                     search_spaces = dtree_params,\n",
    "                     scoring = 'f1_weighted',\n",
    "                     n_iter = 50,\n",
    "                     cv = 5,\n",
    "                     refit = True,\n",
    "                     optimizer_kwargs = {'base_estimator': 'RF'},\n",
    "                     random_state=42)"
   ]
  },
  {
   "cell_type": "raw",
   "id": "788c10ba",
   "metadata": {},
   "source": [
    "dtree_bs.fit(X_train, y_train)"
   ]
  },
  {
   "cell_type": "raw",
   "id": "d734d7a6",
   "metadata": {},
   "source": [
    "dtree_bs.best_params_"
   ]
  },
  {
   "cell_type": "raw",
   "id": "b07862ac",
   "metadata": {},
   "source": [
    "dtree_preds = dtree_bs.predict(X_test)"
   ]
  },
  {
   "cell_type": "raw",
   "id": "ddebefe6",
   "metadata": {},
   "source": [
    "dtree_tn, dtree_fp, dtree_fn, dtree_tp = confusion_matrix(y_test, dtree_preds).ravel()"
   ]
  },
  {
   "cell_type": "raw",
   "id": "74767248",
   "metadata": {
    "tags": []
   },
   "source": [
    "metrics(dtree_tn, dtree_fp, dtree_fn, dtree_tp, metric = 'all')"
   ]
  },
  {
   "cell_type": "raw",
   "id": "696d6428",
   "metadata": {},
   "source": [
    "dtree = dtree_bs.best_estimator_['dtree']"
   ]
  },
  {
   "cell_type": "raw",
   "id": "03d0b00b",
   "metadata": {},
   "source": [
    "pickle.dump(dtree, open('models/DecisionTree.sav', 'wb'))"
   ]
  },
  {
   "cell_type": "markdown",
   "id": "40fe2af2",
   "metadata": {},
   "source": [
    "- Random Forest"
   ]
  },
  {
   "cell_type": "code",
   "execution_count": 45,
   "id": "81001df9",
   "metadata": {},
   "outputs": [],
   "source": [
    "rf_pipe = Pipeline([\n",
    "    ('rf', RandomForestClassifier(random_state = 42))\n",
    "])\n",
    "\n",
    "rf_params = {\n",
    "    'rf__criterion': Categorical(['gini', 'entropy']),\n",
    "    'rf__n_estimators': Integer(5, 200),\n",
    "    'rf__min_samples_split': Real(0, .5),\n",
    "    'rf__min_samples_leaf': Real(0, .5),\n",
    "    'rf__max_depth': Integer(1, 100),\n",
    "    'rf__max_features': Categorical(['auto', 'sqrt', 'log2']),\n",
    "    'rf__min_impurity_decrease': Real(0, .2, prior='uniform'),\n",
    "    'rf__ccp_alpha': Real(0, .2, prior='uniform'),\n",
    "    'rf__max_samples': Real(0, 1)\n",
    "}\n",
    "\n",
    "rf_bs = BayesSearchCV(estimator = rf_pipe,\n",
    "                     search_spaces = rf_params,\n",
    "                     scoring = 'f1_weighted',\n",
    "                     n_iter = 50,\n",
    "                     cv = 5,\n",
    "                     refit = True,\n",
    "                     optimizer_kwargs = {'base_estimator': 'RF'},\n",
    "                     random_state=42)"
   ]
  },
  {
   "cell_type": "raw",
   "id": "177b8d06",
   "metadata": {},
   "source": [
    "rf_bs.fit(X_train, y_train)"
   ]
  },
  {
   "cell_type": "raw",
   "id": "749776a4",
   "metadata": {},
   "source": [
    "rf_bs.best_params_"
   ]
  },
  {
   "cell_type": "raw",
   "id": "7bb02c73",
   "metadata": {},
   "source": [
    "rf_preds = rf_bs.predict(X_test)"
   ]
  },
  {
   "cell_type": "raw",
   "id": "5be4bb28",
   "metadata": {},
   "source": [
    "rf_tn, rf_fp, rf_fn, rf_tp = confusion_matrix(y_test, rf_preds).ravel()"
   ]
  },
  {
   "cell_type": "raw",
   "id": "4de2ff53",
   "metadata": {},
   "source": [
    "rf_tn, rf_fp, rf_fn, rf_tp"
   ]
  },
  {
   "cell_type": "raw",
   "id": "40d33b58",
   "metadata": {},
   "source": [
    "metrics(rf_tn, rf_fp, rf_fn, rf_tp, metric = 'all')"
   ]
  },
  {
   "cell_type": "raw",
   "id": "36a8150b",
   "metadata": {},
   "source": [
    "rf = rf_bs.best_estimator_['rf']"
   ]
  },
  {
   "cell_type": "raw",
   "id": "ffdb158c",
   "metadata": {},
   "source": [
    "pickle.dump(rf, open('models/RandomForest.sav', 'wb'))"
   ]
  },
  {
   "cell_type": "markdown",
   "id": "46723216",
   "metadata": {},
   "source": [
    "- Extra Trees"
   ]
  },
  {
   "cell_type": "code",
   "execution_count": 52,
   "id": "7eed89bc",
   "metadata": {},
   "outputs": [],
   "source": [
    "et_pipe = Pipeline([\n",
    "    ('et', ExtraTreesClassifier(random_state = 42))\n",
    "])\n",
    "\n",
    "et_params = {\n",
    "    'et__criterion': Categorical(['gini', 'entropy']),\n",
    "    'et__n_estimators': Integer(5, 200),\n",
    "    'et__min_samples_split': Real(0, .5),\n",
    "    'et__min_samples_leaf': Real(0, .5),\n",
    "    'et__max_depth': Integer(1, 100),\n",
    "    'et__max_features': Categorical(['auto', 'sqrt', 'log2']),\n",
    "    'et__min_impurity_decrease': Real(0, .2, prior='uniform'),\n",
    "    'et__ccp_alpha': Real(0, .2, prior='uniform'),\n",
    "    'et__max_samples': Real(0, 1)\n",
    "}\n",
    "\n",
    "et_bs = BayesSearchCV(estimator = et_pipe,\n",
    "                     search_spaces = et_params,\n",
    "                     scoring = 'f1_weighted',\n",
    "                     n_iter = 50,\n",
    "                     cv = 5,\n",
    "                     refit = True,\n",
    "                     optimizer_kwargs = {'base_estimator': 'RF'},\n",
    "                     random_state=42)"
   ]
  },
  {
   "cell_type": "raw",
   "id": "24e6dd90",
   "metadata": {},
   "source": [
    "et_bs.fit(X_train, y_train)"
   ]
  },
  {
   "cell_type": "raw",
   "id": "cc22b43d",
   "metadata": {},
   "source": [
    "et_bs.best_params_"
   ]
  },
  {
   "cell_type": "raw",
   "id": "36b998a2",
   "metadata": {},
   "source": [
    "et_preds = et_bs.predict(X_test)"
   ]
  },
  {
   "cell_type": "raw",
   "id": "8dac17cf",
   "metadata": {},
   "source": [
    "et_tn, et_fp, et_fn, et_tp = confusion_matrix(y_test, et_preds).ravel()"
   ]
  },
  {
   "cell_type": "raw",
   "id": "8cea17ea",
   "metadata": {},
   "source": [
    "et_tn, et_fp, et_fn, et_tp"
   ]
  },
  {
   "cell_type": "raw",
   "id": "b0d15d24",
   "metadata": {},
   "source": [
    "metrics(et_tn, et_fp, et_fn, et_tp, metric = 'all')"
   ]
  },
  {
   "cell_type": "raw",
   "id": "ab0dbc2f",
   "metadata": {},
   "source": [
    "et = et_bs.best_estimator_['et']"
   ]
  },
  {
   "cell_type": "raw",
   "id": "74e1839d",
   "metadata": {},
   "source": [
    "pickle.dump(et, open('models/ExtraTrees.sav', 'wb'))"
   ]
  },
  {
   "cell_type": "markdown",
   "id": "6f3a8df8",
   "metadata": {},
   "source": [
    "- Compare?"
   ]
  },
  {
   "cell_type": "code",
   "execution_count": null,
   "id": "f846ee14",
   "metadata": {},
   "outputs": [],
   "source": []
  }
 ],
 "metadata": {
  "kernelspec": {
   "display_name": "Python 3",
   "language": "python",
   "name": "python3"
  },
  "language_info": {
   "codemirror_mode": {
    "name": "ipython",
    "version": 3
   },
   "file_extension": ".py",
   "mimetype": "text/x-python",
   "name": "python",
   "nbconvert_exporter": "python",
   "pygments_lexer": "ipython3",
   "version": "3.7.6"
  }
 },
 "nbformat": 4,
 "nbformat_minor": 5
}
