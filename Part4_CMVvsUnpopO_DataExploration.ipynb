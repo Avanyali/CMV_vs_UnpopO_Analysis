{
 "cells": [
  {
   "cell_type": "code",
   "execution_count": 1,
   "id": "83ce480e",
   "metadata": {},
   "outputs": [],
   "source": [
    "import pandas as pd\n",
    "import numpy as np\n",
    "import seaborn as sns\n",
    "import matplotlib.pyplot as plt\n",
    "from sklearn.model_selection import train_test_split, RandomizedSearchCV\n",
    "from sklearn.pipeline import Pipeline\n",
    "from sklearn.metrics import confusion_matrix, plot_confusion_matrix\n",
    "\n",
    "from skopt.space import Integer, Real, Categorical\n",
    "from skopt import BayesSearchCV\n",
    "from scipy.stats import uniform, loguniform"
   ]
  },
  {
   "cell_type": "code",
   "execution_count": 2,
   "id": "ccf0819b",
   "metadata": {},
   "outputs": [],
   "source": [
    "df = pd.read_csv('data/engineered_cmv&unpop_data')"
   ]
  },
  {
   "cell_type": "code",
   "execution_count": 3,
   "id": "220a1a79",
   "metadata": {},
   "outputs": [],
   "source": [
    "df.drop(columns = ['Unnamed: 0'], inplace = True)"
   ]
  },
  {
   "cell_type": "markdown",
   "id": "f005e66b",
   "metadata": {},
   "source": [
    "***Exploratory Data Analysis***"
   ]
  },
  {
   "cell_type": "code",
   "execution_count": 4,
   "id": "896c8854",
   "metadata": {},
   "outputs": [],
   "source": [
    "non_numerics = df.select_dtypes(exclude = np.number).columns.tolist()"
   ]
  },
  {
   "cell_type": "code",
   "execution_count": 5,
   "id": "ee57a390",
   "metadata": {},
   "outputs": [],
   "source": [
    "excluded_ints = ['num_comments', 'post_score', 'training_set', 'post_subreddit']"
   ]
  },
  {
   "cell_type": "code",
   "execution_count": 6,
   "id": "743ea256",
   "metadata": {},
   "outputs": [],
   "source": [
    "ordered_sums = df.select_dtypes(include = np.dtype('int64')).drop(columns = excluded_ints).sum(numeric_only = True).sort_values(ascending = False).index"
   ]
  },
  {
   "cell_type": "code",
   "execution_count": 30,
   "id": "b57226dd",
   "metadata": {},
   "outputs": [],
   "source": [
    "sentiments = ['neg_sentiment', 'pos_sentiment', 'neu_sentiment', 'comp_sentiment']"
   ]
  },
  {
   "cell_type": "code",
   "execution_count": 32,
   "id": "db9380b8",
   "metadata": {},
   "outputs": [],
   "source": [
    "drops = excluded_ints.copy()\n",
    "drops.extend(sentiments)"
   ]
  },
  {
   "cell_type": "code",
   "execution_count": 7,
   "id": "06c666e9",
   "metadata": {},
   "outputs": [],
   "source": [
    "reindexer = []\n",
    "reindexer.extend(non_numerics)\n",
    "reindexer.extend(sentiments)\n",
    "reindexer.extend(excluded_ints)\n",
    "reindexer.extend(ordered_sums)"
   ]
  },
  {
   "cell_type": "code",
   "execution_count": 8,
   "id": "235f123c",
   "metadata": {},
   "outputs": [],
   "source": [
    "df = df.reindex(reindexer, axis=1)"
   ]
  },
  {
   "cell_type": "markdown",
   "id": "47246108",
   "metadata": {},
   "source": [
    "- Additional cleaning after engineering."
   ]
  },
  {
   "cell_type": "code",
   "execution_count": 73,
   "id": "5ffe247d",
   "metadata": {},
   "outputs": [
    {
     "data": {
      "text/plain": [
       "author_username    0\n",
       "beat               0\n",
       "dude               0\n",
       "soon               0\n",
       "wanting            0\n",
       "dtype: int64"
      ]
     },
     "execution_count": 73,
     "metadata": {},
     "output_type": "execute_result"
    }
   ],
   "source": [
    "df.isna().sum().sort_values(ascending = False).head()"
   ]
  },
  {
   "cell_type": "code",
   "execution_count": 72,
   "id": "0440d3b0",
   "metadata": {},
   "outputs": [],
   "source": [
    "df.dropna(inplace = True)"
   ]
  },
  {
   "cell_type": "markdown",
   "id": "8b451b08",
   "metadata": {},
   "source": [
    "- Check for artifacts with oddly high means."
   ]
  },
  {
   "cell_type": "code",
   "execution_count": 9,
   "id": "897a5c29",
   "metadata": {},
   "outputs": [],
   "source": [
    "means = df.mean(axis=0)"
   ]
  },
  {
   "cell_type": "code",
   "execution_count": 10,
   "id": "4108dc0e",
   "metadata": {},
   "outputs": [],
   "source": [
    "odd_ones = {key: val for key, val in means.to_dict().items() if val > 1}"
   ]
  },
  {
   "cell_type": "markdown",
   "id": "2b6e044d",
   "metadata": {},
   "source": [
    "- Nothing out of the ordinary here."
   ]
  },
  {
   "cell_type": "code",
   "execution_count": 11,
   "id": "367f906a",
   "metadata": {},
   "outputs": [
    {
     "data": {
      "text/plain": [
       "{'num_comments': 44.36959505833905,\n",
       " 'post_score': 27.254547014413177,\n",
       " 'people': 1.5004289636238848,\n",
       " 'like': 1.0217913520933424}"
      ]
     },
     "execution_count": 11,
     "metadata": {},
     "output_type": "execute_result"
    }
   ],
   "source": [
    "odd_ones"
   ]
  },
  {
   "cell_type": "markdown",
   "id": "76c378d6",
   "metadata": {},
   "source": [
    "- Drop additional stopwords that were not covered by CountVectorizer."
   ]
  },
  {
   "cell_type": "code",
   "execution_count": 12,
   "id": "26ade975",
   "metadata": {},
   "outputs": [],
   "source": [
    "mentions = df[df.columns.tolist()].sum()"
   ]
  },
  {
   "cell_type": "code",
   "execution_count": 13,
   "id": "2e6e4e03",
   "metadata": {},
   "outputs": [
    {
     "data": {
      "text/plain": [
       "['people',\n",
       " 'like',\n",
       " 'just',\n",
       " 'don',\n",
       " 'wa',\n",
       " 'think',\n",
       " 'ha',\n",
       " 'http',\n",
       " 'thing',\n",
       " 'make',\n",
       " 'time',\n",
       " 'want',\n",
       " 'way',\n",
       " 'feel',\n",
       " 'woman',\n",
       " 'say',\n",
       " 'know',\n",
       " 'life',\n",
       " 'view',\n",
       " 'good',\n",
       " 'change',\n",
       " 'cmv',\n",
       " 'really',\n",
       " 'right',\n",
       " 'believe']"
      ]
     },
     "execution_count": 13,
     "metadata": {},
     "output_type": "execute_result"
    }
   ],
   "source": [
    "list(mentions.keys())[10:35]"
   ]
  },
  {
   "cell_type": "code",
   "execution_count": 14,
   "id": "cee59446",
   "metadata": {},
   "outputs": [],
   "source": [
    "df.drop(columns = ['http', 'cmv', 've', 'ha', 'wa'], inplace = True) "
   ]
  },
  {
   "cell_type": "markdown",
   "id": "7fa61040",
   "metadata": {},
   "source": [
    "- Most frequently used words, least frequently used words."
   ]
  },
  {
   "cell_type": "code",
   "execution_count": 15,
   "id": "24892741",
   "metadata": {},
   "outputs": [],
   "source": [
    "mentions = df[df.columns.tolist()].sum()"
   ]
  },
  {
   "cell_type": "code",
   "execution_count": 16,
   "id": "bbbdab4d",
   "metadata": {},
   "outputs": [
    {
     "data": {
      "image/png": "[encoded data removed]",
      "text/plain": [
       "<Figure size 432x288 with 1 Axes>"
      ]
     },
     "metadata": {
      "needs_background": "light"
     },
     "output_type": "display_data"
    }
   ],
   "source": [
    "keys = list(mentions.to_dict().keys())\n",
    "values = list(mentions.to_dict().values())\n",
    "\n",
    "plt.bar(keys[10:30], values[10:30])\n",
    "plt.xticks(rotation = 60)\n",
    "plt.title(\"20 most frequently used words in the dataset\")\n",
    "plt.ylabel(\"Count\")\n",
    "plt.xlabel(\"Words\")\n",
    "plt.show()"
   ]
  },
  {
   "cell_type": "markdown",
   "id": "02ac4b0b",
   "metadata": {},
   "source": [
    "- Many posts appear to talk about (perhaps unsurprisingly) opinions, given the frequency of people, like, don't, say, feel, know, and think."
   ]
  },
  {
   "cell_type": "code",
   "execution_count": 22,
   "id": "59c8f22c",
   "metadata": {},
   "outputs": [],
   "source": [
    "y_vars = excluded_ints.copy()"
   ]
  },
  {
   "cell_type": "code",
   "execution_count": 23,
   "id": "35a3f5db",
   "metadata": {},
   "outputs": [],
   "source": [
    "y_vars.remove('training_set')"
   ]
  },
  {
   "cell_type": "code",
   "execution_count": 24,
   "id": "6dd10012",
   "metadata": {},
   "outputs": [],
   "source": [
    "y_vars.remove('post_subreddit')"
   ]
  },
  {
   "cell_type": "code",
   "execution_count": 25,
   "id": "f8bb705a",
   "metadata": {},
   "outputs": [],
   "source": [
    "x_vars = sentiments"
   ]
  },
  {
   "cell_type": "markdown",
   "id": "ec3fce9f",
   "metadata": {},
   "source": [
    "- Outlier and distributions check."
   ]
  },
  {
   "cell_type": "code",
   "execution_count": 26,
   "id": "ddb066f7",
   "metadata": {},
   "outputs": [
    {
     "data": {
      "image/png": "[encoded data removed]",
      "text/plain": [
       "<Figure size 720x360 with 8 Axes>"
      ]
     },
     "metadata": {
      "needs_background": "light"
     },
     "output_type": "display_data"
    }
   ],
   "source": [
    "sns.pairplot(df, x_vars = x_vars, y_vars = y_vars)\n",
    "plt.show()"
   ]
  },
  {
   "cell_type": "markdown",
   "id": "9a91978c",
   "metadata": {},
   "source": [
    "- No need to remove these outliers, as post_score and num_comments both just indicate additional text data that will not be used in this analysis.\n",
    "- Posts in these subreddits that receive upvotes or comments appear to be clustered around low negative and positive sentiments and high neutral sentiment."
   ]
  },
  {
   "cell_type": "code",
   "execution_count": 81,
   "id": "5464d5ec",
   "metadata": {},
   "outputs": [
    {
     "data": {
      "text/html": [
       "<div>\n",
       "<style scoped>\n",
       "    .dataframe tbody tr th:only-of-type {\n",
       "        vertical-align: middle;\n",
       "    }\n",
       "\n",
       "    .dataframe tbody tr th {\n",
       "        vertical-align: top;\n",
       "    }\n",
       "\n",
       "    .dataframe thead th {\n",
       "        text-align: right;\n",
       "    }\n",
       "</style>\n",
       "<table border=\"1\" class=\"dataframe\">\n",
       "  <thead>\n",
       "    <tr style=\"text-align: right;\">\n",
       "      <th></th>\n",
       "      <th>neg_sentiment</th>\n",
       "      <th>pos_sentiment</th>\n",
       "      <th>neu_sentiment</th>\n",
       "      <th>comp_sentiment</th>\n",
       "    </tr>\n",
       "  </thead>\n",
       "  <tbody>\n",
       "    <tr>\n",
       "      <th>count</th>\n",
       "      <td>5088.000000</td>\n",
       "      <td>5088.000000</td>\n",
       "      <td>5088.000000</td>\n",
       "      <td>5088.000000</td>\n",
       "    </tr>\n",
       "    <tr>\n",
       "      <th>mean</th>\n",
       "      <td>0.106155</td>\n",
       "      <td>0.131158</td>\n",
       "      <td>0.762689</td>\n",
       "      <td>0.231404</td>\n",
       "    </tr>\n",
       "    <tr>\n",
       "      <th>std</th>\n",
       "      <td>0.066121</td>\n",
       "      <td>0.055680</td>\n",
       "      <td>0.074437</td>\n",
       "      <td>0.836859</td>\n",
       "    </tr>\n",
       "    <tr>\n",
       "      <th>min</th>\n",
       "      <td>0.000000</td>\n",
       "      <td>0.000000</td>\n",
       "      <td>0.350000</td>\n",
       "      <td>-0.999900</td>\n",
       "    </tr>\n",
       "    <tr>\n",
       "      <th>25%</th>\n",
       "      <td>0.059000</td>\n",
       "      <td>0.092000</td>\n",
       "      <td>0.717000</td>\n",
       "      <td>-0.829775</td>\n",
       "    </tr>\n",
       "    <tr>\n",
       "      <th>50%</th>\n",
       "      <td>0.093000</td>\n",
       "      <td>0.129000</td>\n",
       "      <td>0.764000</td>\n",
       "      <td>0.758250</td>\n",
       "    </tr>\n",
       "    <tr>\n",
       "      <th>75%</th>\n",
       "      <td>0.142000</td>\n",
       "      <td>0.166000</td>\n",
       "      <td>0.812000</td>\n",
       "      <td>0.975125</td>\n",
       "    </tr>\n",
       "    <tr>\n",
       "      <th>max</th>\n",
       "      <td>0.650000</td>\n",
       "      <td>0.574000</td>\n",
       "      <td>1.000000</td>\n",
       "      <td>0.999900</td>\n",
       "    </tr>\n",
       "  </tbody>\n",
       "</table>\n",
       "</div>"
      ],
      "text/plain": [
       "       neg_sentiment  pos_sentiment  neu_sentiment  comp_sentiment\n",
       "count    5088.000000    5088.000000    5088.000000     5088.000000\n",
       "mean        0.106155       0.131158       0.762689        0.231404\n",
       "std         0.066121       0.055680       0.074437        0.836859\n",
       "min         0.000000       0.000000       0.350000       -0.999900\n",
       "25%         0.059000       0.092000       0.717000       -0.829775\n",
       "50%         0.093000       0.129000       0.764000        0.758250\n",
       "75%         0.142000       0.166000       0.812000        0.975125\n",
       "max         0.650000       0.574000       1.000000        0.999900"
      ]
     },
     "execution_count": 81,
     "metadata": {},
     "output_type": "execute_result"
    }
   ],
   "source": [
    "df[df['post_subreddit'] == 1][x_vars].describe()"
   ]
  },
  {
   "cell_type": "code",
   "execution_count": 78,
   "id": "12f147c7",
   "metadata": {},
   "outputs": [
    {
     "data": {
      "text/html": [
       "<div>\n",
       "<style scoped>\n",
       "    .dataframe tbody tr th:only-of-type {\n",
       "        vertical-align: middle;\n",
       "    }\n",
       "\n",
       "    .dataframe tbody tr th {\n",
       "        vertical-align: top;\n",
       "    }\n",
       "\n",
       "    .dataframe thead th {\n",
       "        text-align: right;\n",
       "    }\n",
       "</style>\n",
       "<table border=\"1\" class=\"dataframe\">\n",
       "  <thead>\n",
       "    <tr style=\"text-align: right;\">\n",
       "      <th></th>\n",
       "      <th>neg_sentiment</th>\n",
       "      <th>pos_sentiment</th>\n",
       "      <th>neu_sentiment</th>\n",
       "      <th>comp_sentiment</th>\n",
       "    </tr>\n",
       "  </thead>\n",
       "  <tbody>\n",
       "    <tr>\n",
       "      <th>count</th>\n",
       "      <td>6559.000000</td>\n",
       "      <td>6559.000000</td>\n",
       "      <td>6559.000000</td>\n",
       "      <td>6559.000000</td>\n",
       "    </tr>\n",
       "    <tr>\n",
       "      <th>mean</th>\n",
       "      <td>0.127399</td>\n",
       "      <td>0.134973</td>\n",
       "      <td>0.737632</td>\n",
       "      <td>0.030647</td>\n",
       "    </tr>\n",
       "    <tr>\n",
       "      <th>std</th>\n",
       "      <td>0.087308</td>\n",
       "      <td>0.079651</td>\n",
       "      <td>0.096616</td>\n",
       "      <td>0.761762</td>\n",
       "    </tr>\n",
       "    <tr>\n",
       "      <th>min</th>\n",
       "      <td>0.000000</td>\n",
       "      <td>0.000000</td>\n",
       "      <td>0.217000</td>\n",
       "      <td>-0.999700</td>\n",
       "    </tr>\n",
       "    <tr>\n",
       "      <th>25%</th>\n",
       "      <td>0.066000</td>\n",
       "      <td>0.081000</td>\n",
       "      <td>0.678000</td>\n",
       "      <td>-0.796550</td>\n",
       "    </tr>\n",
       "    <tr>\n",
       "      <th>50%</th>\n",
       "      <td>0.114000</td>\n",
       "      <td>0.126000</td>\n",
       "      <td>0.741000</td>\n",
       "      <td>0.077200</td>\n",
       "    </tr>\n",
       "    <tr>\n",
       "      <th>75%</th>\n",
       "      <td>0.175000</td>\n",
       "      <td>0.180500</td>\n",
       "      <td>0.801000</td>\n",
       "      <td>0.829850</td>\n",
       "    </tr>\n",
       "    <tr>\n",
       "      <th>max</th>\n",
       "      <td>0.783000</td>\n",
       "      <td>0.718000</td>\n",
       "      <td>1.000000</td>\n",
       "      <td>0.999800</td>\n",
       "    </tr>\n",
       "  </tbody>\n",
       "</table>\n",
       "</div>"
      ],
      "text/plain": [
       "       neg_sentiment  pos_sentiment  neu_sentiment  comp_sentiment\n",
       "count    6559.000000    6559.000000    6559.000000     6559.000000\n",
       "mean        0.127399       0.134973       0.737632        0.030647\n",
       "std         0.087308       0.079651       0.096616        0.761762\n",
       "min         0.000000       0.000000       0.217000       -0.999700\n",
       "25%         0.066000       0.081000       0.678000       -0.796550\n",
       "50%         0.114000       0.126000       0.741000        0.077200\n",
       "75%         0.175000       0.180500       0.801000        0.829850\n",
       "max         0.783000       0.718000       1.000000        0.999800"
      ]
     },
     "execution_count": 78,
     "metadata": {},
     "output_type": "execute_result"
    }
   ],
   "source": [
    "df[df['post_subreddit'] == 0][x_vars].describe()"
   ]
  },
  {
   "cell_type": "markdown",
   "id": "e848d29b",
   "metadata": {},
   "source": [
    "- Unpopular opinion is slightly more negative in terms of language on average, but shows a higher spread across all sentiments (std)."
   ]
  },
  {
   "cell_type": "markdown",
   "id": "2d6318ad",
   "metadata": {},
   "source": [
    "- Create a ratio of all word counts between the two subreddits."
   ]
  },
  {
   "cell_type": "code",
   "execution_count": 63,
   "id": "021b77d8",
   "metadata": {},
   "outputs": [],
   "source": [
    "dissimilarities = df[df['post_subreddit'] == 1].drop(columns = drops).sum(numeric_only = True) / df[df['post_subreddit'] == 0].drop(columns = drops).sum(numeric_only = True)"
   ]
  },
  {
   "cell_type": "code",
   "execution_count": 64,
   "id": "64ef4935",
   "metadata": {},
   "outputs": [],
   "source": [
    "dissimilarities.sort_values(ascending = True, inplace = True)"
   ]
  },
  {
   "cell_type": "code",
   "execution_count": 65,
   "id": "663e3e51",
   "metadata": {},
   "outputs": [
    {
     "data": {
      "image/png": "[encoded data removed]",
      "text/plain": [
       "<Figure size 432x288 with 1 Axes>"
      ]
     },
     "metadata": {
      "needs_background": "light"
     },
     "output_type": "display_data"
    },
    {
     "data": {
      "image/png": "[encoded data removed]",
      "text/plain": [
       "<Figure size 432x288 with 1 Axes>"
      ]
     },
     "metadata": {
      "needs_background": "light"
     },
     "output_type": "display_data"
    }
   ],
   "source": [
    "keys = list((1/dissimilarities).to_dict().keys())\n",
    "values = list((1/dissimilarities).to_dict().values())\n",
    "\n",
    "plt.bar(keys[:20], values[:20])\n",
    "plt.xticks(rotation = 60)\n",
    "plt.title(\"Words that appear most frequently in r/Unpopularopinion compared to r/changemyview\", y= 1.1)\n",
    "plt.ylabel(\"Times appearing per same word in r/changemyview\")\n",
    "plt.xlabel(\"Words\")\n",
    "plt.show()\n",
    "\n",
    "keys = list(dissimilarities.to_dict().keys())\n",
    "values = list(dissimilarities.to_dict().values())\n",
    "\n",
    "plt.bar(keys[len(dissimilarities) - 20:], [val if val <= 100 else 100 for val in values[len(dissimilarities) - 20:]])\n",
    "plt.xticks(rotation = 60)\n",
    "plt.title(\"Words that appear most frequently in r/changemyview compared to r/Unpopularopinion\", y= 1.1)\n",
    "plt.ylabel(\"Times appearing per same word in r/Unpopularopinion\")\n",
    "plt.xlabel(\"Words\")\n",
    "plt.show()"
   ]
  },
  {
   "cell_type": "markdown",
   "id": "a2431e3c",
   "metadata": {},
   "source": [
    "- These charts show interesting differences between the two subreddits:\n",
    "   - Negatively opinionated words such as 'overrated', 'annoying', 'boring', 'trash', 'shit, 'suck, and 'shitty' all appear at least three times more often in Unpopular opinion that in change my view. \n",
    "   - 'Song', 'meme', and 'anime' appear more frequently in Unpopular opinion than in change my view. Taken with the above point, it is likely that posts in Unpopular opinion are frequently about the quality of popular works of media.\n",
    "   - Reddit specific language such as 'wiki', 'report', 'downvotes', 'submitting, and 'moderator' appear more frequently in change my view.\n",
    "   - Hello appears much more frequently in change my view, similar to a formal email or other message.\n",
    "   - Similarly, polite language such as 'concern', 'remind', and 'firstly' appear more over 20 times more frequently in change my view than in Unpopular opinion.\n",
    "   - Biden appears much more frequently in change my view than in unpopular opinion, though surprisingly 'Trump' does not appear on this list. This data is scraped over a long enough period that I would have expected it."
   ]
  },
  {
   "cell_type": "code",
   "execution_count": 66,
   "id": "27b620a7",
   "metadata": {},
   "outputs": [
    {
     "data": {
      "text/plain": [
       "(2.956810631229236, 2.646017699115044)"
      ]
     },
     "execution_count": 66,
     "metadata": {},
     "output_type": "execute_result"
    }
   ],
   "source": [
    "dissimilarities['trump'], dissimilarities['politics']"
   ]
  },
  {
   "cell_type": "markdown",
   "id": "0e4e106f",
   "metadata": {},
   "source": [
    "- Trump does appear more often in change my view than in unpopular opinion. Politics does as well, and the three together seem to indicate that political opinions are voice more often in change my view than in unpopular opinion as a whole. I am curious why Biden appears 90 times more often in cmv and Trump only appears 3 times more often."
   ]
  },
  {
   "cell_type": "code",
   "execution_count": 67,
   "id": "b1aa4ccc",
   "metadata": {},
   "outputs": [
    {
     "data": {
      "text/plain": [
       "(1191, 188)"
      ]
     },
     "execution_count": 67,
     "metadata": {},
     "output_type": "execute_result"
    }
   ],
   "source": [
    "df['trump'].sum(), df['biden'].sum()"
   ]
  },
  {
   "cell_type": "markdown",
   "id": "9e5bb17e",
   "metadata": {},
   "source": [
    "- It appears that Biden's appearance so often in cmv compared to unpop may be due to low sample size - one tenth of the appearances that Trump makes."
   ]
  },
  {
   "cell_type": "markdown",
   "id": "8c6ba8f4",
   "metadata": {},
   "source": [
    "- Save edited csv."
   ]
  },
  {
   "cell_type": "code",
   "execution_count": 74,
   "id": "88596366",
   "metadata": {},
   "outputs": [],
   "source": [
    "df.to_csv('data/explored_cmv&unpop_data')"
   ]
  },
  {
   "cell_type": "markdown",
   "id": "866d2955",
   "metadata": {},
   "source": [
    "- On to part 5 ->"
   ]
  }
 ],
 "metadata": {
  "kernelspec": {
   "display_name": "Python 3",
   "language": "python",
   "name": "python3"
  },
  "language_info": {
   "codemirror_mode": {
    "name": "ipython",
    "version": 3
   },
   "file_extension": ".py",
   "mimetype": "text/x-python",
   "name": "python",
   "nbconvert_exporter": "python",
   "pygments_lexer": "ipython3",
   "version": "3.7.6"
  }
 },
 "nbformat": 4,
 "nbformat_minor": 5
}
