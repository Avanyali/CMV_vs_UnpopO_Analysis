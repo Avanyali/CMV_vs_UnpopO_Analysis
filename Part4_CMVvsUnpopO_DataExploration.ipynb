{
 "cells": [
  {
   "cell_type": "code",
   "execution_count": 1,
   "id": "e9e63ec8",
   "metadata": {},
   "outputs": [],
   "source": [
    "import pandas as pd\n",
    "import numpy as np\n",
    "import seaborn as sns\n",
    "from sklearn.model_selection import train_test_split, RandomizedSearchCV\n",
    "from sklearn.pipeline import Pipeline\n",
    "from sklearn.metrics import confusion_matrix, plot_confusion_matrix\n",
    "\n",
    "from skopt.space import Integer, Real, Categorical\n",
    "from skopt import BayesSearchCV\n",
    "from scipy.stats import uniform, loguniform"
   ]
  },
  {
   "cell_type": "code",
   "execution_count": 2,
   "id": "e8f12fee",
   "metadata": {},
   "outputs": [],
   "source": [
    "df = pd.read_csv('data/engineered_cmv&unpop_data')"
   ]
  },
  {
   "cell_type": "code",
   "execution_count": 5,
   "id": "9a853afe",
   "metadata": {},
   "outputs": [],
   "source": [
    "df.drop(columns = ['Unnamed: 0'], inplace = True)"
   ]
  },
  {
   "cell_type": "markdown",
   "id": "81e6b25c",
   "metadata": {},
   "source": [
    "***Exploratory Data Analysis***"
   ]
  },
  {
   "cell_type": "code",
   "execution_count": 12,
   "id": "700d75ae",
   "metadata": {},
   "outputs": [],
   "source": [
    "non_numerics = df.select_dtypes(exclude = np.number).columns.tolist()"
   ]
  },
  {
   "cell_type": "code",
   "execution_count": 18,
   "id": "4526cfd5",
   "metadata": {},
   "outputs": [],
   "source": [
    "excluded_ints = ['num_comments', 'post_score', 'training_set', 'post_subreddit']"
   ]
  },
  {
   "cell_type": "code",
   "execution_count": 25,
   "id": "dc78592a",
   "metadata": {},
   "outputs": [],
   "source": [
    "ordered_sums = df.select_dtypes(include = np.dtype('int64')).drop(columns = excluded_ints).sum(numeric_only = True).sort_values(ascending = False).index"
   ]
  },
  {
   "cell_type": "code",
   "execution_count": 26,
   "id": "3073a10d",
   "metadata": {},
   "outputs": [],
   "source": [
    "reindexer = []\n",
    "reindexer.extend(non_numerics)\n",
    "reindexer.extend(excluded_ints)\n",
    "reindexer.extend(ordered_sums)"
   ]
  },
  {
   "cell_type": "code",
   "execution_count": 29,
   "id": "b3f14ab6",
   "metadata": {},
   "outputs": [],
   "source": [
    "df = df.reindex(reindexer, axis=1)"
   ]
  },
  {
   "cell_type": "code",
   "execution_count": 32,
   "id": "ad0be39b",
   "metadata": {},
   "outputs": [
    {
     "data": {
      "text/plain": [
       "['people',\n",
       " 'like',\n",
       " 'just',\n",
       " 'don',\n",
       " 'think',\n",
       " 'com',\n",
       " 'www',\n",
       " 'reddit',\n",
       " 'http',\n",
       " 'changemyview']"
      ]
     },
     "execution_count": 32,
     "metadata": {},
     "output_type": "execute_result"
    }
   ],
   "source": [
    "df.columns.tolist()[13:23]"
   ]
  },
  {
   "cell_type": "code",
   "execution_count": null,
   "id": "a8dd9541",
   "metadata": {},
   "outputs": [],
   "source": []
  }
 ],
 "metadata": {
  "kernelspec": {
   "display_name": "Python 3",
   "language": "python",
   "name": "python3"
  },
  "language_info": {
   "codemirror_mode": {
    "name": "ipython",
    "version": 3
   },
   "file_extension": ".py",
   "mimetype": "text/x-python",
   "name": "python",
   "nbconvert_exporter": "python",
   "pygments_lexer": "ipython3",
   "version": "3.7.6"
  }
 },
 "nbformat": 4,
 "nbformat_minor": 5
}
