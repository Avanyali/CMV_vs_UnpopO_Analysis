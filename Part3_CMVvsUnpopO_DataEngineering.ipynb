{
 "cells": [
  {
   "cell_type": "code",
   "execution_count": 1,
   "id": "e18b686d",
   "metadata": {},
   "outputs": [],
   "source": [
    "import pandas as pd\n",
    "import numpy as np\n",
    "import seaborn as sns\n",
    "import re\n",
    "\n",
    "from nltk.stem import WordNetLemmatizer\n",
    "from nltk.sentiment.vader import SentimentIntensityAnalyzer\n",
    "from sklearn.feature_extraction.text import CountVectorizer\n",
    "from sklearn.model_selection import train_test_split, RandomizedSearchCV\n",
    "from sklearn.pipeline import Pipeline\n",
    "from sklearn.naive_bayes import MultinomialNB\n",
    "from sklearn.metrics import confusion_matrix, plot_confusion_matrix\n",
    "from nltk.tokenize import RegexpTokenizer\n",
    "\n",
    "from skopt.space import Integer, Real, Categorical\n",
    "from skopt import BayesSearchCV\n",
    "from scipy.stats import uniform, loguniform"
   ]
  },
  {
   "cell_type": "code",
   "execution_count": 2,
   "id": "187b6052",
   "metadata": {},
   "outputs": [],
   "source": [
    "def metrics(tn, fp, fn, tp, metric = ['accuracy']):\n",
    "    answers = {}\n",
    "    \n",
    "    if 'accuracy' in metric or 'all' in metric:\n",
    "        answers['accuracy'] = (tp + tn) / (tn + fn + fp + tp)\n",
    "    if 'sensitivity' in metric  or 'all' in metric:\n",
    "        answers['sensitivity'] = tp / (tp + fn)\n",
    "    if 'specificity' in metric  or 'all' in metric:\n",
    "        answers['specificity'] = tn / (tn + fp)\n",
    "    if 'f1' in metric or 'all' in metric:\n",
    "        answers['f1'] = tp / (tp + .5*(fp + fn))\n",
    "\n",
    "    return answers"
   ]
  },
  {
   "cell_type": "code",
   "execution_count": 3,
   "id": "10d5d3e4",
   "metadata": {},
   "outputs": [],
   "source": [
    "df = pd.read_csv('data/cleaned_cmv&unpop_data')"
   ]
  },
  {
   "cell_type": "code",
   "execution_count": 4,
   "id": "870c0356",
   "metadata": {},
   "outputs": [],
   "source": [
    "df.drop(columns = ['Unnamed: 0'], inplace = True)"
   ]
  },
  {
   "cell_type": "markdown",
   "id": "87fa3fed",
   "metadata": {},
   "source": [
    "***Data Engineering***"
   ]
  },
  {
   "cell_type": "code",
   "execution_count": 5,
   "id": "35688d6e",
   "metadata": {},
   "outputs": [
    {
     "data": {
      "text/plain": [
       "unpopularopinion    0.563229\n",
       "changemyview        0.436771\n",
       "Name: subreddit, dtype: float64"
      ]
     },
     "execution_count": 5,
     "metadata": {},
     "output_type": "execute_result"
    }
   ],
   "source": [
    "df['subreddit'].value_counts(normalize = True)"
   ]
  },
  {
   "cell_type": "markdown",
   "id": "028ed75e",
   "metadata": {},
   "source": [
    "- Set changemyview to be the positive class."
   ]
  },
  {
   "cell_type": "code",
   "execution_count": 6,
   "id": "809ca24f",
   "metadata": {},
   "outputs": [],
   "source": [
    "df['subreddit'] = df['subreddit'].map(lambda x: 1 if x == 'changemyview' else 0)"
   ]
  },
  {
   "cell_type": "markdown",
   "id": "ca930f8c",
   "metadata": {},
   "source": [
    "- Scrub URLs and CMVs."
   ]
  },
  {
   "cell_type": "code",
   "execution_count": 7,
   "id": "41bbb9e0",
   "metadata": {},
   "outputs": [],
   "source": [
    "def scrub_text(string):\n",
    "    remove_cmv_url = r'^([Cc]{1}[Mm]{1}[Vv]{1}[:]{0,1})|([Ww]{3}[^\\s]+)|([^\\s]+[\\.]{1}[Cc]{1}[Oo]{1}[Mm]{1})$'\n",
    "    return re.sub(remove_cmv_url, '', string)"
   ]
  },
  {
   "cell_type": "code",
   "execution_count": 8,
   "id": "e6df34ff",
   "metadata": {},
   "outputs": [],
   "source": [
    "df['title'] = df['title'].map(scrub_text)\n",
    "df['selftext'] = df['selftext'].map(scrub_text)"
   ]
  },
  {
   "cell_type": "markdown",
   "id": "4597e460",
   "metadata": {},
   "source": [
    "- Remove inserted moderator comments. Many change my view posts have \"_____ gt hello user of cmv this is a footnote...[etc.]\" or similar appended to the end of their selftext. "
   ]
  },
  {
   "cell_type": "code",
   "execution_count": 10,
   "id": "754ffcd6",
   "metadata": {},
   "outputs": [],
   "source": [
    "def scrub_mod_comment(string):\n",
    "    return string.split('_____ gt')[0].split('gt')[0]"
   ]
  },
  {
   "cell_type": "code",
   "execution_count": 11,
   "id": "074beedf",
   "metadata": {},
   "outputs": [],
   "source": [
    "df['selftext'] = df['selftext'].map(scrub_mod_comment)"
   ]
  },
  {
   "cell_type": "markdown",
   "id": "0dc8bf2b",
   "metadata": {},
   "source": [
    "- Lemmatize text fields."
   ]
  },
  {
   "cell_type": "code",
   "execution_count": 13,
   "id": "6bd3a497",
   "metadata": {},
   "outputs": [],
   "source": [
    "lemmatizer = WordNetLemmatizer()"
   ]
  },
  {
   "cell_type": "code",
   "execution_count": 14,
   "id": "b689cc75",
   "metadata": {},
   "outputs": [],
   "source": [
    "tokenizer = RegexpTokenizer('\\w+')"
   ]
  },
  {
   "cell_type": "code",
   "execution_count": 15,
   "id": "62997d63",
   "metadata": {},
   "outputs": [],
   "source": [
    "def lemma_map(in_string):  \n",
    "    to_lemma = tokenizer.tokenize(in_string)\n",
    "    return \" \".join([lemmatizer.lemmatize(token.lower()) for token in to_lemma])"
   ]
  },
  {
   "cell_type": "code",
   "execution_count": 16,
   "id": "07be6cba",
   "metadata": {},
   "outputs": [],
   "source": [
    "df['title'] = df['title'].map(lemma_map)\n",
    "df['selftext'] = df['selftext'].map(lemma_map)"
   ]
  },
  {
   "cell_type": "markdown",
   "id": "fa1d84b4",
   "metadata": {},
   "source": [
    "- Add sentiment analysis columns."
   ]
  },
  {
   "cell_type": "code",
   "execution_count": 17,
   "id": "65315ddf",
   "metadata": {},
   "outputs": [],
   "source": [
    "corpus = zip(list(df['title']), list(df['selftext']))"
   ]
  },
  {
   "cell_type": "code",
   "execution_count": 18,
   "id": "98ed924f",
   "metadata": {},
   "outputs": [],
   "source": [
    "sia = SentimentIntensityAnalyzer()"
   ]
  },
  {
   "cell_type": "code",
   "execution_count": 19,
   "id": "53db0e85",
   "metadata": {},
   "outputs": [],
   "source": [
    "sentiment = []    \n",
    "\n",
    "for title, tweet in corpus:\n",
    "    scores = sia.polarity_scores(title + \" \" + tweet)\n",
    "    sentiment.append(scores)\n",
    "\n",
    "sents = pd.DataFrame(sentiment)"
   ]
  },
  {
   "cell_type": "code",
   "execution_count": 20,
   "id": "4b39a1ba",
   "metadata": {},
   "outputs": [],
   "source": [
    "df = pd.concat([df, sents], axis = 1)"
   ]
  },
  {
   "cell_type": "markdown",
   "id": "0d551d41",
   "metadata": {},
   "source": [
    "- Change column names so that there won't be a collision with vectorized columns."
   ]
  },
  {
   "cell_type": "code",
   "execution_count": 21,
   "id": "caf459c3",
   "metadata": {},
   "outputs": [],
   "source": [
    "df.rename(columns = {'author': 'author_username', 'id': 'author_id', 'selftext': 'post_text', 'score': 'post_score', 'subreddit': 'post_subreddit', 'title': 'post_title', 'neg': 'neg_sentiment', 'pos': 'pos_sentiment', 'neu': 'neu_sentiment', 'compound': 'comp_sentiment'}, inplace = True)"
   ]
  },
  {
   "cell_type": "markdown",
   "id": "9f38b786",
   "metadata": {},
   "source": [
    "- Add training column for fitting purposes."
   ]
  },
  {
   "cell_type": "code",
   "execution_count": 22,
   "id": "79993bea",
   "metadata": {},
   "outputs": [],
   "source": [
    "x_list = df.columns.tolist()\n",
    "x_list.remove('post_subreddit')\n",
    "X = df[x_list]\n",
    "y = df['post_subreddit']\n",
    "\n",
    "X_train, X_test, y_train, y_test = train_test_split(X, y, random_state = 42, stratify = y)"
   ]
  },
  {
   "cell_type": "code",
   "execution_count": 23,
   "id": "52a59376",
   "metadata": {},
   "outputs": [],
   "source": [
    "train_total = pd.concat([X_train, y_train], axis = 1)\n",
    "test_total = pd.concat([X_test, y_test], axis = 1)"
   ]
  },
  {
   "cell_type": "markdown",
   "id": "92d6026b",
   "metadata": {},
   "source": [
    "- Identify best parameters for vectorizer. Code credit to lesson 'advanced hyperparameter search'"
   ]
  },
  {
   "cell_type": "code",
   "execution_count": 24,
   "id": "ab925587",
   "metadata": {},
   "outputs": [],
   "source": [
    "pipe = Pipeline([\n",
    "    ('cvec', CountVectorizer(stop_words = 'english')),\n",
    "    ('mnb', MultinomialNB())\n",
    "])\n",
    "\n",
    "params = {\n",
    "    'cvec__max_features': Integer(100, 10000),\n",
    "    'cvec__min_df': Integer(1, 5),\n",
    "    'cvec__max_df': Real(.5,1, prior='uniform'),\n",
    "    'mnb__alpha': Real(.001, 100, prior='log-uniform')\n",
    "}\n",
    "\n",
    "cvec_bs = BayesSearchCV(estimator = pipe,\n",
    "                     search_spaces = params,\n",
    "                     scoring = 'f1',\n",
    "                     n_iter = 50,\n",
    "                     n_jobs = 8,\n",
    "                     cv = 5,\n",
    "                     refit = True,\n",
    "                     random_state=42)"
   ]
  },
  {
   "cell_type": "code",
   "execution_count": 25,
   "id": "195784f5",
   "metadata": {},
   "outputs": [],
   "source": [
    "train_text_post = X_train['post_title'] + \" \" + X_train['post_text']\n",
    "test_text_post = X_test['post_title'] + \" \" + X_test['post_text']"
   ]
  },
  {
   "cell_type": "code",
   "execution_count": 26,
   "id": "e8e81c4b",
   "metadata": {},
   "outputs": [
    {
     "data": {
      "text/plain": [
       "BayesSearchCV(cv=5,\n",
       "              estimator=Pipeline(steps=[('cvec',\n",
       "                                         CountVectorizer(stop_words='english')),\n",
       "                                        ('mnb', MultinomialNB())]),\n",
       "              n_jobs=8, random_state=42, scoring='f1',\n",
       "              search_spaces={'cvec__max_df': Real(low=0.5, high=1, prior='uniform', transform='identity'),\n",
       "                             'cvec__max_features': Integer(low=100, high=10000, prior='uniform', transform='identity'),\n",
       "                             'cvec__min_df': Integer(low=1, high=5, prior='uniform', transform='identity'),\n",
       "                             'mnb__alpha': Real(low=0.001, high=100, prior='log-uniform', transform='identity')})"
      ]
     },
     "execution_count": 26,
     "metadata": {},
     "output_type": "execute_result"
    }
   ],
   "source": [
    "cvec_bs.fit(train_text_post, y_train)"
   ]
  },
  {
   "cell_type": "code",
   "execution_count": 27,
   "id": "6f7f236f",
   "metadata": {},
   "outputs": [],
   "source": [
    "preds = cvec_bs.predict(test_text_post)"
   ]
  },
  {
   "cell_type": "code",
   "execution_count": 28,
   "id": "918f7deb",
   "metadata": {},
   "outputs": [
    {
     "data": {
      "text/plain": [
       "OrderedDict([('cvec__max_df', 0.8468466496240046),\n",
       "             ('cvec__max_features', 1063),\n",
       "             ('cvec__min_df', 1),\n",
       "             ('mnb__alpha', 0.001)])"
      ]
     },
     "execution_count": 28,
     "metadata": {},
     "output_type": "execute_result"
    }
   ],
   "source": [
    "cvec_bs.best_params_"
   ]
  },
  {
   "cell_type": "code",
   "execution_count": 29,
   "id": "7a49b3ee",
   "metadata": {},
   "outputs": [],
   "source": [
    "tn, fp, fn, tp = confusion_matrix(y_test, preds).ravel()"
   ]
  },
  {
   "cell_type": "code",
   "execution_count": 30,
   "id": "0f617dce",
   "metadata": {},
   "outputs": [
    {
     "data": {
      "text/plain": [
       "{'accuracy': 0.7848318462594372,\n",
       " 'sensitivity': 0.7894736842105263,\n",
       " 'specificity': 0.7812309567336989,\n",
       " 'f1': 0.7622298065984073}"
      ]
     },
     "execution_count": 30,
     "metadata": {},
     "output_type": "execute_result"
    }
   ],
   "source": [
    "metrics(tn, fp, fn, tp, metric = 'all')"
   ]
  },
  {
   "cell_type": "markdown",
   "id": "43356bd4",
   "metadata": {},
   "source": [
    "- Vectorize words and add to dataframe."
   ]
  },
  {
   "cell_type": "code",
   "execution_count": 31,
   "id": "2f46df5e",
   "metadata": {},
   "outputs": [],
   "source": [
    "cvec = cvec_bs.best_estimator_['cvec']"
   ]
  },
  {
   "cell_type": "code",
   "execution_count": 32,
   "id": "146b116e",
   "metadata": {},
   "outputs": [],
   "source": [
    "Xcv_train = cvec.fit_transform(train_total['post_title'] + \" \" + train_total['post_text'])\n",
    "Xcv_test = cvec.transform(test_total['post_title'] + \" \" + test_total['post_text'])"
   ]
  },
  {
   "cell_type": "code",
   "execution_count": 33,
   "id": "6e52fd76",
   "metadata": {},
   "outputs": [],
   "source": [
    "df_xcv_train = pd.DataFrame(Xcv_train.todense(), columns = cvec.get_feature_names())\n",
    "df_xcv_test = pd.DataFrame(Xcv_test.todense(), columns = cvec.get_feature_names())"
   ]
  },
  {
   "cell_type": "code",
   "execution_count": 34,
   "id": "ffda0d91",
   "metadata": {},
   "outputs": [],
   "source": [
    "df_xcv_train.reset_index(inplace = True)\n",
    "df_xcv_test.reset_index(inplace = True)\n",
    "train_total.reset_index(inplace = True)\n",
    "test_total.reset_index(inplace = True)"
   ]
  },
  {
   "cell_type": "code",
   "execution_count": 35,
   "id": "6163d888",
   "metadata": {},
   "outputs": [],
   "source": [
    "train_with_vecs = pd.concat([train_total, df_xcv_train], axis = 1)\n",
    "test_with_vecs = pd.concat([test_total, df_xcv_test], axis = 1)"
   ]
  },
  {
   "cell_type": "code",
   "execution_count": 36,
   "id": "117fa0dd",
   "metadata": {},
   "outputs": [],
   "source": [
    "df = pd.concat([train_with_vecs, test_with_vecs], ignore_index = True)"
   ]
  },
  {
   "cell_type": "code",
   "execution_count": 37,
   "id": "0997b594",
   "metadata": {},
   "outputs": [],
   "source": [
    "df.reset_index(drop = True, inplace = True)"
   ]
  },
  {
   "cell_type": "code",
   "execution_count": 38,
   "id": "d718c6e9",
   "metadata": {},
   "outputs": [],
   "source": [
    "df.drop(columns = 'index', inplace = True)"
   ]
  },
  {
   "cell_type": "markdown",
   "id": "fafba339",
   "metadata": {},
   "source": [
    "- Save engineered file."
   ]
  },
  {
   "cell_type": "code",
   "execution_count": 39,
   "id": "bdd8f612",
   "metadata": {},
   "outputs": [],
   "source": [
    "df.to_csv('data/engineered_cmv&unpop_data')"
   ]
  },
  {
   "cell_type": "markdown",
   "id": "f3e8f448",
   "metadata": {},
   "source": [
    "- On to part 4 ->"
   ]
  }
 ],
 "metadata": {
  "kernelspec": {
   "display_name": "Python 3",
   "language": "python",
   "name": "python3"
  },
  "language_info": {
   "codemirror_mode": {
    "name": "ipython",
    "version": 3
   },
   "file_extension": ".py",
   "mimetype": "text/x-python",
   "name": "python",
   "nbconvert_exporter": "python",
   "pygments_lexer": "ipython3",
   "version": "3.7.6"
  }
 },
 "nbformat": 4,
 "nbformat_minor": 5
}
