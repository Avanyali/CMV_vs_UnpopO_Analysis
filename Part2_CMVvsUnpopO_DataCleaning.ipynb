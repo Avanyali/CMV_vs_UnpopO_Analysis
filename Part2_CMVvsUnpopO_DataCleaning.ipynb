{
 "cells": [
  {
   "cell_type": "code",
   "execution_count": 17,
   "id": "87b85d44",
   "metadata": {},
   "outputs": [],
   "source": [
    "import pandas as pd\n",
    "import requests"
   ]
  },
  {
   "cell_type": "markdown",
   "id": "52993da3",
   "metadata": {},
   "source": [
    "- Import data."
   ]
  },
  {
   "cell_type": "code",
   "execution_count": 2,
   "id": "df2f1cf4",
   "metadata": {},
   "outputs": [
    {
     "name": "stderr",
     "output_type": "stream",
     "text": [
      "C:\\Users\\Avanyali\\anaconda3\\lib\\site-packages\\IPython\\core\\interactiveshell.py:3166: DtypeWarning: Columns (1,2,5,7,9,10,11,12,13,17,19,20,21,22,23,25,26,27,28,29,30,31,32,36,38,43,44,49,50,54,57,60,61,66,69,71,74,75,80,81,83,85,86,89,92,93,95,96,99,100) have mixed types.Specify dtype option on import or set low_memory=False.\n",
      "  interactivity=interactivity, compiler=compiler, result=result)\n",
      "C:\\Users\\Avanyali\\anaconda3\\lib\\site-packages\\IPython\\core\\interactiveshell.py:3166: DtypeWarning: Columns (1,2,5,7,9,10,11,12,17,19,20,21,22,23,25,26,27,28,29,30,31,32,36,38,42,46,47,52,56,59,61,62,63,64,66,67,68,70,72,73,76,77,78) have mixed types.Specify dtype option on import or set low_memory=False.\n",
      "  interactivity=interactivity, compiler=compiler, result=result)\n"
     ]
    }
   ],
   "source": [
    "change_frame = pd.read_csv('data/raw_changemyview_initial_scrape')\n",
    "opinion_frame = pd.read_csv('data/raw_unpopularopinion_initial_scrape')"
   ]
  },
  {
   "cell_type": "markdown",
   "id": "b0082f38",
   "metadata": {},
   "source": [
    "- Combine frames for cleaning."
   ]
  },
  {
   "cell_type": "code",
   "execution_count": 5,
   "id": "52e36ae9",
   "metadata": {},
   "outputs": [],
   "source": [
    "df = pd.concat([change_frame, opinion_frame])"
   ]
  },
  {
   "cell_type": "markdown",
   "id": "cc2e896e",
   "metadata": {},
   "source": [
    "- Filter out fully null columns and posts that are likely made with moderation in mind."
   ]
  },
  {
   "cell_type": "code",
   "execution_count": 16,
   "id": "68116c17",
   "metadata": {},
   "outputs": [],
   "source": [
    "all_nas = df.isna().sum() == df.shape[0]\n",
    "df.drop(columns = [key for key, value in all_nas.to_dict().items() if value], inplace = True)"
   ]
  },
  {
   "cell_type": "code",
   "execution_count": 40,
   "id": "e7e053d5",
   "metadata": {},
   "outputs": [],
   "source": [
    "df = df[df['pinned'] != True]\n",
    "df = df[df['stickied'] != True]"
   ]
  },
  {
   "cell_type": "markdown",
   "id": "01e31291",
   "metadata": {},
   "source": [
    "- Reduce dataframe to a selection of columns."
   ]
  },
  {
   "cell_type": "code",
   "execution_count": 47,
   "id": "ce1c1a2e",
   "metadata": {},
   "outputs": [],
   "source": [
    "relevant_columns = ['author', 'author_fullname', 'id', 'is_self', 'num_comments', 'selftext', 'score', 'subreddit', 'title']"
   ]
  },
  {
   "cell_type": "code",
   "execution_count": 48,
   "id": "846b3a92",
   "metadata": {},
   "outputs": [],
   "source": [
    "df = df[relevant_columns]"
   ]
  },
  {
   "cell_type": "markdown",
   "id": "beb77dd8",
   "metadata": {},
   "source": [
    "- Remove posts that are not self-posted text posts."
   ]
  },
  {
   "cell_type": "code",
   "execution_count": 51,
   "id": "32d55b97",
   "metadata": {},
   "outputs": [],
   "source": [
    "df = df[df['is_self'] == True]"
   ]
  },
  {
   "cell_type": "code",
   "execution_count": 53,
   "id": "dd4052df",
   "metadata": {},
   "outputs": [
    {
     "name": "stderr",
     "output_type": "stream",
     "text": [
      "C:\\Users\\Avanyali\\anaconda3\\lib\\site-packages\\pandas\\core\\frame.py:4315: SettingWithCopyWarning: \n",
      "A value is trying to be set on a copy of a slice from a DataFrame\n",
      "\n",
      "See the caveats in the documentation: https://pandas.pydata.org/pandas-docs/stable/user_guide/indexing.html#returning-a-view-versus-a-copy\n",
      "  errors=errors,\n"
     ]
    }
   ],
   "source": [
    "df.drop(columns = 'is_self', inplace = True)"
   ]
  },
  {
   "cell_type": "markdown",
   "id": "ba292aea",
   "metadata": {},
   "source": [
    "- Remove posts without body text. Confirm it does not imbalance our classes."
   ]
  },
  {
   "cell_type": "code",
   "execution_count": 60,
   "id": "6dfa3583",
   "metadata": {},
   "outputs": [],
   "source": [
    "df = df[df['selftext'].isna().map(lambda x: False if x == True else True)]"
   ]
  },
  {
   "cell_type": "code",
   "execution_count": 63,
   "id": "02f82be2",
   "metadata": {},
   "outputs": [
    {
     "data": {
      "text/plain": [
       "unpopularopinion    0.503841\n",
       "changemyview        0.496159\n",
       "Name: subreddit, dtype: float64"
      ]
     },
     "execution_count": 63,
     "metadata": {},
     "output_type": "execute_result"
    }
   ],
   "source": [
    "df['subreddit'].value_counts(normalize = True)"
   ]
  },
  {
   "cell_type": "markdown",
   "id": "6140dcab",
   "metadata": {},
   "source": [
    "- Check nulls."
   ]
  },
  {
   "cell_type": "code",
   "execution_count": 64,
   "id": "588672e3",
   "metadata": {},
   "outputs": [
    {
     "data": {
      "text/plain": [
       "author                0\n",
       "author_fullname    6443\n",
       "id                    0\n",
       "num_comments          0\n",
       "selftext              0\n",
       "score                 0\n",
       "subreddit             0\n",
       "title                 0\n",
       "dtype: int64"
      ]
     },
     "execution_count": 64,
     "metadata": {},
     "output_type": "execute_result"
    }
   ],
   "source": [
    "df.isna().sum()"
   ]
  },
  {
   "cell_type": "code",
   "execution_count": 69,
   "id": "0b867b67",
   "metadata": {},
   "outputs": [
    {
     "data": {
      "text/plain": [
       "3445"
      ]
     },
     "execution_count": 69,
     "metadata": {},
     "output_type": "execute_result"
    }
   ],
   "source": [
    "df[df['author'] == '[deleted]']['author_fullname'].isna().sum()"
   ]
  },
  {
   "cell_type": "code",
   "execution_count": 70,
   "id": "c24309d6",
   "metadata": {},
   "outputs": [
    {
     "data": {
      "text/plain": [
       "(3445,)"
      ]
     },
     "execution_count": 70,
     "metadata": {},
     "output_type": "execute_result"
    }
   ],
   "source": [
    "df[df['author'] == '[deleted]']['author_fullname'].shape"
   ]
  },
  {
   "cell_type": "markdown",
   "id": "b0fca7de",
   "metadata": {},
   "source": [
    "- Author fullname was hoped to be usable when author was '[deleted]'. It is not, and will be dropped."
   ]
  },
  {
   "cell_type": "code",
   "execution_count": 71,
   "id": "99307464",
   "metadata": {},
   "outputs": [
    {
     "name": "stderr",
     "output_type": "stream",
     "text": [
      "C:\\Users\\Avanyali\\anaconda3\\lib\\site-packages\\pandas\\core\\frame.py:4315: SettingWithCopyWarning: \n",
      "A value is trying to be set on a copy of a slice from a DataFrame\n",
      "\n",
      "See the caveats in the documentation: https://pandas.pydata.org/pandas-docs/stable/user_guide/indexing.html#returning-a-view-versus-a-copy\n",
      "  errors=errors,\n"
     ]
    }
   ],
   "source": [
    "df.drop(columns = 'author_fullname', inplace = True)"
   ]
  },
  {
   "cell_type": "markdown",
   "id": "e474fe3e",
   "metadata": {},
   "source": [
    "- Drop all posts with '[deleted]' as text data, check if class imbalance is created."
   ]
  },
  {
   "cell_type": "code",
   "execution_count": 72,
   "id": "4b2baafb",
   "metadata": {},
   "outputs": [],
   "source": [
    "df = df[df['selftext'] != '[deleted]']"
   ]
  },
  {
   "cell_type": "code",
   "execution_count": 74,
   "id": "c4a92c44",
   "metadata": {},
   "outputs": [
    {
     "data": {
      "text/plain": [
       "unpopularopinion    0.500147\n",
       "changemyview        0.499853\n",
       "Name: subreddit, dtype: float64"
      ]
     },
     "execution_count": 74,
     "metadata": {},
     "output_type": "execute_result"
    }
   ],
   "source": [
    "df['subreddit'].value_counts(normalize = True)"
   ]
  },
  {
   "cell_type": "code",
   "execution_count": null,
   "id": "39e5a1fd",
   "metadata": {},
   "outputs": [],
   "source": []
  }
 ],
 "metadata": {
  "kernelspec": {
   "display_name": "Python 3",
   "language": "python",
   "name": "python3"
  },
  "language_info": {
   "codemirror_mode": {
    "name": "ipython",
    "version": 3
   },
   "file_extension": ".py",
   "mimetype": "text/x-python",
   "name": "python",
   "nbconvert_exporter": "python",
   "pygments_lexer": "ipython3",
   "version": "3.7.6"
  }
 },
 "nbformat": 4,
 "nbformat_minor": 5
}
