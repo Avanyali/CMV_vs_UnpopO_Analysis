{
 "cells": [
  {
   "cell_type": "code",
   "execution_count": 1,
   "id": "95e3d262",
   "metadata": {},
   "outputs": [],
   "source": [
    "import pandas as pd"
   ]
  },
  {
   "cell_type": "markdown",
   "id": "d12f2d25",
   "metadata": {},
   "source": [
    "- Import data."
   ]
  },
  {
   "cell_type": "code",
   "execution_count": 2,
   "id": "6d1f0382",
   "metadata": {},
   "outputs": [
    {
     "name": "stderr",
     "output_type": "stream",
     "text": [
      "C:\\Users\\Avanyali\\anaconda3\\lib\\site-packages\\IPython\\core\\interactiveshell.py:3166: DtypeWarning: Columns (1,2,5,7,9,10,11,12,13,17,19,20,21,22,23,25,26,27,28,29,30,31,32,36,38,43,44,49,50,54,57,60,61,66,69,71,74,75,80,81,83,85,86,89,92,93,95,96,99,100) have mixed types.Specify dtype option on import or set low_memory=False.\n",
      "  interactivity=interactivity, compiler=compiler, result=result)\n",
      "C:\\Users\\Avanyali\\anaconda3\\lib\\site-packages\\IPython\\core\\interactiveshell.py:3166: DtypeWarning: Columns (1,2,5,7,9,10,11,12,17,19,20,21,22,23,25,26,27,28,29,30,31,32,36,38,42,46,47,52,56,59,61,62,63,64,66,67,68,70,72,73,76,77,78) have mixed types.Specify dtype option on import or set low_memory=False.\n",
      "  interactivity=interactivity, compiler=compiler, result=result)\n"
     ]
    }
   ],
   "source": [
    "change_frame = pd.read_csv('data/raw_changemyview_initial_scrape')\n",
    "opinion_frame = pd.read_csv('data/raw_unpopularopinion_initial_scrape')"
   ]
  },
  {
   "cell_type": "markdown",
   "id": "4ca95df9",
   "metadata": {},
   "source": [
    "***Data Cleaning***"
   ]
  },
  {
   "cell_type": "markdown",
   "id": "b487ab11",
   "metadata": {},
   "source": [
    "- Combine frames for cleaning."
   ]
  },
  {
   "cell_type": "code",
   "execution_count": 3,
   "id": "a29ab5bc",
   "metadata": {},
   "outputs": [],
   "source": [
    "df = pd.concat([change_frame, opinion_frame])"
   ]
  },
  {
   "cell_type": "markdown",
   "id": "0086786a",
   "metadata": {},
   "source": [
    "- Filter out fully null columns and posts that are likely made with moderation in mind."
   ]
  },
  {
   "cell_type": "code",
   "execution_count": 4,
   "id": "d770f0a3",
   "metadata": {},
   "outputs": [],
   "source": [
    "all_nas = df.isna().sum() == df.shape[0]\n",
    "df.drop(columns = [key for key, value in all_nas.to_dict().items() if value], inplace = True)"
   ]
  },
  {
   "cell_type": "code",
   "execution_count": 5,
   "id": "2e7868ab",
   "metadata": {},
   "outputs": [],
   "source": [
    "df = df[df['pinned'] != True]\n",
    "df = df[df['stickied'] != True]"
   ]
  },
  {
   "cell_type": "markdown",
   "id": "1a7e2447",
   "metadata": {},
   "source": [
    "- Reduce dataframe to a selection of columns."
   ]
  },
  {
   "cell_type": "code",
   "execution_count": 6,
   "id": "37416f6d",
   "metadata": {},
   "outputs": [],
   "source": [
    "relevant_columns = ['author', 'author_fullname', 'id', 'is_self', 'num_comments', 'selftext', 'score', 'subreddit', 'title']"
   ]
  },
  {
   "cell_type": "code",
   "execution_count": 7,
   "id": "a6051168",
   "metadata": {},
   "outputs": [],
   "source": [
    "df = df[relevant_columns]"
   ]
  },
  {
   "cell_type": "markdown",
   "id": "45fc0586",
   "metadata": {},
   "source": [
    "- Remove posts that are not self-posted text posts."
   ]
  },
  {
   "cell_type": "code",
   "execution_count": 8,
   "id": "e9fd73ff",
   "metadata": {},
   "outputs": [],
   "source": [
    "df = df[df['is_self'] == True]"
   ]
  },
  {
   "cell_type": "code",
   "execution_count": 9,
   "id": "ee2805bb",
   "metadata": {},
   "outputs": [],
   "source": [
    "df.drop(columns = 'is_self', inplace = True)"
   ]
  },
  {
   "cell_type": "markdown",
   "id": "9f3a17fb",
   "metadata": {},
   "source": [
    "- Remove posts without body text. Confirm it does not imbalance our classes."
   ]
  },
  {
   "cell_type": "code",
   "execution_count": 10,
   "id": "0eeaf34a",
   "metadata": {},
   "outputs": [],
   "source": [
    "df = df[df['selftext'].isna().map(lambda x: False if x == True else True)]"
   ]
  },
  {
   "cell_type": "code",
   "execution_count": 11,
   "id": "398e953f",
   "metadata": {},
   "outputs": [
    {
     "data": {
      "text/plain": [
       "unpopularopinion    0.503841\n",
       "changemyview        0.496159\n",
       "Name: subreddit, dtype: float64"
      ]
     },
     "execution_count": 11,
     "metadata": {},
     "output_type": "execute_result"
    }
   ],
   "source": [
    "df['subreddit'].value_counts(normalize = True)"
   ]
  },
  {
   "cell_type": "markdown",
   "id": "8b97b51e",
   "metadata": {},
   "source": [
    "- Check nulls."
   ]
  },
  {
   "cell_type": "code",
   "execution_count": 12,
   "id": "b12af911",
   "metadata": {},
   "outputs": [
    {
     "data": {
      "text/plain": [
       "author                0\n",
       "author_fullname    6443\n",
       "id                    0\n",
       "num_comments          0\n",
       "selftext              0\n",
       "score                 0\n",
       "subreddit             0\n",
       "title                 0\n",
       "dtype: int64"
      ]
     },
     "execution_count": 12,
     "metadata": {},
     "output_type": "execute_result"
    }
   ],
   "source": [
    "df.isna().sum()"
   ]
  },
  {
   "cell_type": "code",
   "execution_count": 13,
   "id": "41207e4d",
   "metadata": {},
   "outputs": [
    {
     "data": {
      "text/plain": [
       "3445"
      ]
     },
     "execution_count": 13,
     "metadata": {},
     "output_type": "execute_result"
    }
   ],
   "source": [
    "df[df['author'] == '[deleted]']['author_fullname'].isna().sum()"
   ]
  },
  {
   "cell_type": "code",
   "execution_count": 14,
   "id": "f0eee4b7",
   "metadata": {},
   "outputs": [
    {
     "data": {
      "text/plain": [
       "(3445,)"
      ]
     },
     "execution_count": 14,
     "metadata": {},
     "output_type": "execute_result"
    }
   ],
   "source": [
    "df[df['author'] == '[deleted]']['author_fullname'].shape"
   ]
  },
  {
   "cell_type": "markdown",
   "id": "d8296af4",
   "metadata": {},
   "source": [
    "- Author fullname was hoped to be usable when author was '[deleted]'. It is not, and will be dropped."
   ]
  },
  {
   "cell_type": "code",
   "execution_count": 15,
   "id": "d85faaa7",
   "metadata": {},
   "outputs": [],
   "source": [
    "df.drop(columns = 'author_fullname', inplace = True)"
   ]
  },
  {
   "cell_type": "markdown",
   "id": "edd351c6",
   "metadata": {},
   "source": [
    "- Drop all posts with '[deleted]' or '[removed]' as text data, check if class imbalance is created."
   ]
  },
  {
   "cell_type": "code",
   "execution_count": 16,
   "id": "4d3bb299",
   "metadata": {},
   "outputs": [],
   "source": [
    "df = df[df['selftext'] != '[deleted]']"
   ]
  },
  {
   "cell_type": "code",
   "execution_count": 17,
   "id": "492637ff",
   "metadata": {},
   "outputs": [],
   "source": [
    "df = df[df['selftext'] != '[removed]']"
   ]
  },
  {
   "cell_type": "code",
   "execution_count": 18,
   "id": "975e4523",
   "metadata": {},
   "outputs": [
    {
     "data": {
      "text/plain": [
       "unpopularopinion    0.521837\n",
       "changemyview        0.478163\n",
       "Name: subreddit, dtype: float64"
      ]
     },
     "execution_count": 18,
     "metadata": {},
     "output_type": "execute_result"
    }
   ],
   "source": [
    "df['subreddit'].value_counts(normalize = True)"
   ]
  },
  {
   "cell_type": "markdown",
   "id": "d028dd60",
   "metadata": {},
   "source": [
    "- Remove automoderator posts and moderator posts.\n",
    "- Moderator names from:\n",
    "   - https://www.reddit.com/r/unpopularopinion/about/moderators\n",
    "   - https://www.reddit.com/r/changemyview/about/moderators"
   ]
  },
  {
   "cell_type": "code",
   "execution_count": 19,
   "id": "92a23e2d",
   "metadata": {},
   "outputs": [],
   "source": [
    "df = df[df['author'] != 'AutoModerator']"
   ]
  },
  {
   "cell_type": "code",
   "execution_count": 20,
   "id": "ae9a58a8",
   "metadata": {},
   "outputs": [],
   "source": [
    "unpop_mods = ['Young_Zaphod','TheUniquestUsername','Kinrove','conalfisher','RandomName01','dantheman280','AutoModerator','UnpopularOpinionMods','MisfitPotatoReborn','Umbresp','Blank-Cheque','siouxsie_siouxv2','Iangator','sibre2001','justcool393','ignorantConservative','BotTerminator','SendWhiskey','anticapitalist','Flair_Helper','Wismuth_Salix','Blubatt','theimperious1','BlatantConservative','nexerxe','dramasutra2020','Cambino_02']"
   ]
  },
  {
   "cell_type": "code",
   "execution_count": 21,
   "id": "51ebfc83",
   "metadata": {},
   "outputs": [],
   "source": [
    "cmv_mods = ['Ansuz07','cwenham','Nepene','hacksoncode','huadpe','FlyingFoxOfTheYard_','thedylanackerman','Huntingmoa','Jaysank','tbdabbholm','Armadeo','Poo-et','themaskedserpent','Helpfulcloning','Guanfranco','ViewedFromTheOutside','ZeroPointZero_','entpmisanthrope','TheRegen','ihatedogs2','DeleteriousEuphuism','SquibblesMcGoo','Znyper','hallidev','qtx','DeltaBot','AutoModerator','herrsatan','LetMeNotHear','redditor427']"
   ]
  },
  {
   "cell_type": "code",
   "execution_count": 22,
   "id": "5dab9ada",
   "metadata": {},
   "outputs": [],
   "source": [
    "df = df[df['author'].map(lambda x: True if x not in unpop_mods else False)]"
   ]
  },
  {
   "cell_type": "code",
   "execution_count": 23,
   "id": "4efc4ca2",
   "metadata": {},
   "outputs": [],
   "source": [
    "df = df[df['author'].map(lambda x: True if x not in cmv_mods else False)]"
   ]
  },
  {
   "cell_type": "code",
   "execution_count": 24,
   "id": "0956e146",
   "metadata": {},
   "outputs": [
    {
     "data": {
      "text/plain": [
       "unpopularopinion    0.51815\n",
       "changemyview        0.48185\n",
       "Name: subreddit, dtype: float64"
      ]
     },
     "execution_count": 24,
     "metadata": {},
     "output_type": "execute_result"
    }
   ],
   "source": [
    "df['subreddit'].value_counts(normalize = True)"
   ]
  },
  {
   "cell_type": "markdown",
   "id": "b3cb609a",
   "metadata": {},
   "source": [
    "- Drop duplicate rows."
   ]
  },
  {
   "cell_type": "code",
   "execution_count": 25,
   "id": "3881cf84",
   "metadata": {},
   "outputs": [],
   "source": [
    "df.drop_duplicates(inplace = True)"
   ]
  },
  {
   "cell_type": "code",
   "execution_count": 26,
   "id": "07de2da8",
   "metadata": {},
   "outputs": [
    {
     "data": {
      "text/plain": [
       "unpopularopinion    0.563229\n",
       "changemyview        0.436771\n",
       "Name: subreddit, dtype: float64"
      ]
     },
     "execution_count": 26,
     "metadata": {},
     "output_type": "execute_result"
    }
   ],
   "source": [
    "df['subreddit'].value_counts(normalize = True)"
   ]
  },
  {
   "cell_type": "markdown",
   "id": "e635ffb4",
   "metadata": {},
   "source": [
    "- Save cleaned file."
   ]
  },
  {
   "cell_type": "code",
   "execution_count": 27,
   "id": "e59dc486",
   "metadata": {},
   "outputs": [],
   "source": [
    "df.to_csv('data/cleaned_cmv&unpop_data')"
   ]
  },
  {
   "cell_type": "markdown",
   "id": "54f3db69",
   "metadata": {},
   "source": [
    "- On to part 3 ->"
   ]
  }
 ],
 "metadata": {
  "kernelspec": {
   "display_name": "Python 3",
   "language": "python",
   "name": "python3"
  },
  "language_info": {
   "codemirror_mode": {
    "name": "ipython",
    "version": 3
   },
   "file_extension": ".py",
   "mimetype": "text/x-python",
   "name": "python",
   "nbconvert_exporter": "python",
   "pygments_lexer": "ipython3",
   "version": "3.7.6"
  }
 },
 "nbformat": 4,
 "nbformat_minor": 5
}
