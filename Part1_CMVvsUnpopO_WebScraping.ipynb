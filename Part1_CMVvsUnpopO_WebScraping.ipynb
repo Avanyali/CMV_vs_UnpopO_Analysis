{
 "cells": [
  {
   "cell_type": "code",
   "execution_count": 1,
   "id": "b7ed5d8a",
   "metadata": {},
   "outputs": [],
   "source": [
    "import pandas as pd\n",
    "import datetime as dt\n",
    "import time\n",
    "import requests\n",
    "from datetime import datetime"
   ]
  },
  {
   "cell_type": "code",
   "execution_count": 3,
   "id": "fe0c425a",
   "metadata": {},
   "outputs": [],
   "source": [
    "last_date = datetime.today()\n",
    "posts = {}"
   ]
  },
  {
   "cell_type": "markdown",
   "id": "1b2ea7bd",
   "metadata": {},
   "source": [
    "***Problem Statement***"
   ]
  },
  {
   "cell_type": "markdown",
   "id": "a1e73947",
   "metadata": {},
   "source": [
    "- My (hypothetical) company is an advertising firm. Management has indicated that they would like to see how feasible it would be to insert astroturfers into opinion forums to generate positive public sentiment for our clientele’s products and negative public sentiment for opposing products.\n",
    "- We have selected two popular opinion forums on the website Reddit.com: “Change my View” and “Unpopular Opinion.” Our goal is to analyze the words they use and what they talk about to form our conclusions."
   ]
  },
  {
   "cell_type": "markdown",
   "id": "a6bd594f",
   "metadata": {},
   "source": [
    "***Process used for data collection***"
   ]
  },
  {
   "cell_type": "markdown",
   "id": "f07875da",
   "metadata": {},
   "source": [
    "- Never run this again, unless trying to duplicate this work. Full list of queries and the date at which they were made can be found in AllQueries.txt, accompanying this file."
   ]
  },
  {
   "cell_type": "raw",
   "id": "8f4f0fec",
   "metadata": {
    "jupyter": {
     "outputs_hidden": true
    },
    "tags": []
   },
   "source": [
    "#credit to: Gwen Rathgeber\n",
    "# establish parameters\n",
    "subreddits = ['unpopularopinion', 'changemyview']\n",
    "kind = \"submission\"\n",
    "\n",
    "# Establish URL base\n",
    "BASE_URL = f\"https://api.pushshift.io/reddit/search/{kind}\" # also known as the \"API endpoint\" \n",
    "\n",
    "for subreddit in subreddits:\n",
    "    posts[subreddit] = []\n",
    "    day = 1\n",
    "    cumulative_posts = 0\n",
    "    while cumulative_posts < 15000:\n",
    "        stem = f\"{BASE_URL}?subreddit={subreddit}&size=100\"\n",
    "        URL = f\"{stem}&after={day}d\"\n",
    "        print(\"Querying from: \" + URL)\n",
    "        try:\n",
    "            res = requests.get(URL)\n",
    "            assert res.status_code == 200\n",
    "            json = res.json()['data']\n",
    "            df = pd.DataFrame(json)\n",
    "            posts[subreddit].append(df)\n",
    "\n",
    "            cumulative_posts += df.shape[0]\n",
    "\n",
    "            final_date_pulled = datetime.utcfromtimestamp(df.iloc[-1, df.columns.get_loc('created_utc')])\n",
    "            increment = (last_date - final_date_pulled).days + 1\n",
    "            increment = increment if increment > 0 else 1\n",
    "            day += increment\n",
    "            last_date = final_date_pulled\n",
    "        except:\n",
    "            print(f'Scrape for {URL}, {day} failed')\n",
    "        \n",
    "        time.sleep(2)\n",
    "\n",
    "print(\"Query complete!\")"
   ]
  },
  {
   "cell_type": "raw",
   "id": "3bb3bc4e",
   "metadata": {},
   "source": [
    "change_frame = pd.concat(posts['changemyview'])\n",
    "opinion_frame = pd.concat(posts['unpopularopinion'])"
   ]
  },
  {
   "cell_type": "markdown",
   "id": "803fcb96",
   "metadata": {},
   "source": [
    "- Save scraped data."
   ]
  },
  {
   "cell_type": "raw",
   "id": "da9646ce",
   "metadata": {},
   "source": [
    "change_frame.to_csv('data/raw_changemyview_initial_scrape')"
   ]
  },
  {
   "cell_type": "raw",
   "id": "9531faa9",
   "metadata": {},
   "source": [
    "opinion_frame.to_csv('data/raw_unpopularopinion_initial_scrape')"
   ]
  },
  {
   "cell_type": "markdown",
   "id": "cf553f48",
   "metadata": {},
   "source": [
    "- On to part 2 ->"
   ]
  }
 ],
 "metadata": {
  "kernelspec": {
   "display_name": "Python 3",
   "language": "python",
   "name": "python3"
  },
  "language_info": {
   "codemirror_mode": {
    "name": "ipython",
    "version": 3
   },
   "file_extension": ".py",
   "mimetype": "text/x-python",
   "name": "python",
   "nbconvert_exporter": "python",
   "pygments_lexer": "ipython3",
   "version": "3.7.6"
  }
 },
 "nbformat": 4,
 "nbformat_minor": 5
}
